{
 "cells": [
  {
   "cell_type": "markdown",
   "metadata": {},
   "source": [
    "## BOSTON HOUSING DATASET ANALYSIS\n",
    "\n",
    "### PART I: PREDICTING HOME PRICES USONG MULTIPLE REGRESSION TECHNIQUE"
   ]
  },
  {
   "cell_type": "code",
   "execution_count": 1,
   "metadata": {},
   "outputs": [],
   "source": [
    "##Housing predictions etc.\n",
    "##Boston dataset"
   ]
  },
  {
   "cell_type": "code",
   "execution_count": 2,
   "metadata": {},
   "outputs": [],
   "source": [
    "import pandas as pd\n",
    "import numpy as np\n",
    "import matplotlib.pyplot as plt\n",
    "import seaborn as sns"
   ]
  },
  {
   "cell_type": "code",
   "execution_count": 3,
   "metadata": {},
   "outputs": [],
   "source": [
    "#importing boston house dataset\n",
    "from sklearn.datasets import load_boston"
   ]
  },
  {
   "cell_type": "code",
   "execution_count": 4,
   "metadata": {},
   "outputs": [],
   "source": [
    "boston_df=load_boston()"
   ]
  },
  {
   "cell_type": "code",
   "execution_count": 5,
   "metadata": {},
   "outputs": [
    {
     "name": "stdout",
     "output_type": "stream",
     "text": [
      ".. _boston_dataset:\n",
      "\n",
      "Boston house prices dataset\n",
      "---------------------------\n",
      "\n",
      "**Data Set Characteristics:**  \n",
      "\n",
      "    :Number of Instances: 506 \n",
      "\n",
      "    :Number of Attributes: 13 numeric/categorical predictive. Median Value (attribute 14) is usually the target.\n",
      "\n",
      "    :Attribute Information (in order):\n",
      "        - CRIM     per capita crime rate by town\n",
      "        - ZN       proportion of residential land zoned for lots over 25,000 sq.ft.\n",
      "        - INDUS    proportion of non-retail business acres per town\n",
      "        - CHAS     Charles River dummy variable (= 1 if tract bounds river; 0 otherwise)\n",
      "        - NOX      nitric oxides concentration (parts per 10 million)\n",
      "        - RM       average number of rooms per dwelling\n",
      "        - AGE      proportion of owner-occupied units built prior to 1940\n",
      "        - DIS      weighted distances to five Boston employment centres\n",
      "        - RAD      index of accessibility to radial highways\n",
      "        - TAX      full-value property-tax rate per $10,000\n",
      "        - PTRATIO  pupil-teacher ratio by town\n",
      "        - B        1000(Bk - 0.63)^2 where Bk is the proportion of blacks by town\n",
      "        - LSTAT    % lower status of the population\n",
      "        - MEDV     Median value of owner-occupied homes in $1000's\n",
      "\n",
      "    :Missing Attribute Values: None\n",
      "\n",
      "    :Creator: Harrison, D. and Rubinfeld, D.L.\n",
      "\n",
      "This is a copy of UCI ML housing dataset.\n",
      "https://archive.ics.uci.edu/ml/machine-learning-databases/housing/\n",
      "\n",
      "\n",
      "This dataset was taken from the StatLib library which is maintained at Carnegie Mellon University.\n",
      "\n",
      "The Boston house-price data of Harrison, D. and Rubinfeld, D.L. 'Hedonic\n",
      "prices and the demand for clean air', J. Environ. Economics & Management,\n",
      "vol.5, 81-102, 1978.   Used in Belsley, Kuh & Welsch, 'Regression diagnostics\n",
      "...', Wiley, 1980.   N.B. Various transformations are used in the table on\n",
      "pages 244-261 of the latter.\n",
      "\n",
      "The Boston house-price data has been used in many machine learning papers that address regression\n",
      "problems.   \n",
      "     \n",
      ".. topic:: References\n",
      "\n",
      "   - Belsley, Kuh & Welsch, 'Regression diagnostics: Identifying Influential Data and Sources of Collinearity', Wiley, 1980. 244-261.\n",
      "   - Quinlan,R. (1993). Combining Instance-Based and Model-Based Learning. In Proceedings on the Tenth International Conference of Machine Learning, 236-243, University of Massachusetts, Amherst. Morgan Kaufmann.\n",
      "\n"
     ]
    }
   ],
   "source": [
    "print(boston_df.DESCR)"
   ]
  },
  {
   "cell_type": "code",
   "execution_count": 6,
   "metadata": {},
   "outputs": [
    {
     "data": {
      "text/plain": [
       "dict_keys(['data', 'target', 'feature_names', 'DESCR', 'filename'])"
      ]
     },
     "execution_count": 6,
     "metadata": {},
     "output_type": "execute_result"
    }
   ],
   "source": [
    "boston_df.keys()"
   ]
  },
  {
   "cell_type": "code",
   "execution_count": 7,
   "metadata": {},
   "outputs": [
    {
     "data": {
      "text/plain": [
       "array(['CRIM', 'ZN', 'INDUS', 'CHAS', 'NOX', 'RM', 'AGE', 'DIS', 'RAD',\n",
       "       'TAX', 'PTRATIO', 'B', 'LSTAT'], dtype='<U7')"
      ]
     },
     "execution_count": 7,
     "metadata": {},
     "output_type": "execute_result"
    }
   ],
   "source": [
    "boston_df.feature_names"
   ]
  },
  {
   "cell_type": "code",
   "execution_count": 8,
   "metadata": {},
   "outputs": [],
   "source": [
    "#creating a dataframe\n",
    "df=pd.DataFrame(boston_df.data,columns=boston_df.feature_names)"
   ]
  },
  {
   "cell_type": "code",
   "execution_count": 9,
   "metadata": {},
   "outputs": [
    {
     "data": {
      "text/html": [
       "<div>\n",
       "<style scoped>\n",
       "    .dataframe tbody tr th:only-of-type {\n",
       "        vertical-align: middle;\n",
       "    }\n",
       "\n",
       "    .dataframe tbody tr th {\n",
       "        vertical-align: top;\n",
       "    }\n",
       "\n",
       "    .dataframe thead th {\n",
       "        text-align: right;\n",
       "    }\n",
       "</style>\n",
       "<table border=\"1\" class=\"dataframe\">\n",
       "  <thead>\n",
       "    <tr style=\"text-align: right;\">\n",
       "      <th></th>\n",
       "      <th>CRIM</th>\n",
       "      <th>ZN</th>\n",
       "      <th>INDUS</th>\n",
       "      <th>CHAS</th>\n",
       "      <th>NOX</th>\n",
       "      <th>RM</th>\n",
       "      <th>AGE</th>\n",
       "      <th>DIS</th>\n",
       "      <th>RAD</th>\n",
       "      <th>TAX</th>\n",
       "      <th>PTRATIO</th>\n",
       "      <th>B</th>\n",
       "      <th>LSTAT</th>\n",
       "    </tr>\n",
       "  </thead>\n",
       "  <tbody>\n",
       "    <tr>\n",
       "      <th>0</th>\n",
       "      <td>0.00632</td>\n",
       "      <td>18.0</td>\n",
       "      <td>2.31</td>\n",
       "      <td>0.0</td>\n",
       "      <td>0.538</td>\n",
       "      <td>6.575</td>\n",
       "      <td>65.2</td>\n",
       "      <td>4.0900</td>\n",
       "      <td>1.0</td>\n",
       "      <td>296.0</td>\n",
       "      <td>15.3</td>\n",
       "      <td>396.9</td>\n",
       "      <td>4.98</td>\n",
       "    </tr>\n",
       "    <tr>\n",
       "      <th>1</th>\n",
       "      <td>0.02731</td>\n",
       "      <td>0.0</td>\n",
       "      <td>7.07</td>\n",
       "      <td>0.0</td>\n",
       "      <td>0.469</td>\n",
       "      <td>6.421</td>\n",
       "      <td>78.9</td>\n",
       "      <td>4.9671</td>\n",
       "      <td>2.0</td>\n",
       "      <td>242.0</td>\n",
       "      <td>17.8</td>\n",
       "      <td>396.9</td>\n",
       "      <td>9.14</td>\n",
       "    </tr>\n",
       "  </tbody>\n",
       "</table>\n",
       "</div>"
      ],
      "text/plain": [
       "      CRIM    ZN  INDUS  CHAS    NOX     RM   AGE     DIS  RAD    TAX  \\\n",
       "0  0.00632  18.0   2.31   0.0  0.538  6.575  65.2  4.0900  1.0  296.0   \n",
       "1  0.02731   0.0   7.07   0.0  0.469  6.421  78.9  4.9671  2.0  242.0   \n",
       "\n",
       "   PTRATIO      B  LSTAT  \n",
       "0     15.3  396.9   4.98  \n",
       "1     17.8  396.9   9.14  "
      ]
     },
     "execution_count": 9,
     "metadata": {},
     "output_type": "execute_result"
    }
   ],
   "source": [
    "df.head(2)"
   ]
  },
  {
   "cell_type": "code",
   "execution_count": 10,
   "metadata": {},
   "outputs": [],
   "source": [
    "df['Target']=boston_df.target"
   ]
  },
  {
   "cell_type": "code",
   "execution_count": 11,
   "metadata": {},
   "outputs": [
    {
     "data": {
      "text/plain": [
       "CRIM       0\n",
       "ZN         0\n",
       "INDUS      0\n",
       "CHAS       0\n",
       "NOX        0\n",
       "RM         0\n",
       "AGE        0\n",
       "DIS        0\n",
       "RAD        0\n",
       "TAX        0\n",
       "PTRATIO    0\n",
       "B          0\n",
       "LSTAT      0\n",
       "Target     0\n",
       "dtype: int64"
      ]
     },
     "execution_count": 11,
     "metadata": {},
     "output_type": "execute_result"
    }
   ],
   "source": [
    "df.isnull().sum()"
   ]
  },
  {
   "cell_type": "code",
   "execution_count": 12,
   "metadata": {},
   "outputs": [
    {
     "data": {
      "text/html": [
       "<style  type=\"text/css\" >\n",
       "#T_5da06572_fda9_11eb_a2f8_999e0fb93cecrow9_col0,#T_5da06572_fda9_11eb_a2f8_999e0fb93cecrow9_col1,#T_5da06572_fda9_11eb_a2f8_999e0fb93cecrow9_col2,#T_5da06572_fda9_11eb_a2f8_999e0fb93cecrow9_col5,#T_5da06572_fda9_11eb_a2f8_999e0fb93cecrow9_col6,#T_5da06572_fda9_11eb_a2f8_999e0fb93cecrow11_col3,#T_5da06572_fda9_11eb_a2f8_999e0fb93cecrow11_col4{\n",
       "            background-color:  red;\n",
       "        }</style><table id=\"T_5da06572_fda9_11eb_a2f8_999e0fb93cec\" ><thead>    <tr>        <th class=\"blank level0\" ></th>        <th class=\"col_heading level0 col0\" >mean</th>        <th class=\"col_heading level0 col1\" >std</th>        <th class=\"col_heading level0 col2\" >min</th>        <th class=\"col_heading level0 col3\" >25%</th>        <th class=\"col_heading level0 col4\" >50%</th>        <th class=\"col_heading level0 col5\" >75%</th>        <th class=\"col_heading level0 col6\" >max</th>    </tr></thead><tbody>\n",
       "                <tr>\n",
       "                        <th id=\"T_5da06572_fda9_11eb_a2f8_999e0fb93ceclevel0_row0\" class=\"row_heading level0 row0\" >CRIM</th>\n",
       "                        <td id=\"T_5da06572_fda9_11eb_a2f8_999e0fb93cecrow0_col0\" class=\"data row0 col0\" >3.613524</td>\n",
       "                        <td id=\"T_5da06572_fda9_11eb_a2f8_999e0fb93cecrow0_col1\" class=\"data row0 col1\" >8.601545</td>\n",
       "                        <td id=\"T_5da06572_fda9_11eb_a2f8_999e0fb93cecrow0_col2\" class=\"data row0 col2\" >0.006320</td>\n",
       "                        <td id=\"T_5da06572_fda9_11eb_a2f8_999e0fb93cecrow0_col3\" class=\"data row0 col3\" >0.082045</td>\n",
       "                        <td id=\"T_5da06572_fda9_11eb_a2f8_999e0fb93cecrow0_col4\" class=\"data row0 col4\" >0.256510</td>\n",
       "                        <td id=\"T_5da06572_fda9_11eb_a2f8_999e0fb93cecrow0_col5\" class=\"data row0 col5\" >3.677083</td>\n",
       "                        <td id=\"T_5da06572_fda9_11eb_a2f8_999e0fb93cecrow0_col6\" class=\"data row0 col6\" >88.976200</td>\n",
       "            </tr>\n",
       "            <tr>\n",
       "                        <th id=\"T_5da06572_fda9_11eb_a2f8_999e0fb93ceclevel0_row1\" class=\"row_heading level0 row1\" >ZN</th>\n",
       "                        <td id=\"T_5da06572_fda9_11eb_a2f8_999e0fb93cecrow1_col0\" class=\"data row1 col0\" >11.363636</td>\n",
       "                        <td id=\"T_5da06572_fda9_11eb_a2f8_999e0fb93cecrow1_col1\" class=\"data row1 col1\" >23.322453</td>\n",
       "                        <td id=\"T_5da06572_fda9_11eb_a2f8_999e0fb93cecrow1_col2\" class=\"data row1 col2\" >0.000000</td>\n",
       "                        <td id=\"T_5da06572_fda9_11eb_a2f8_999e0fb93cecrow1_col3\" class=\"data row1 col3\" >0.000000</td>\n",
       "                        <td id=\"T_5da06572_fda9_11eb_a2f8_999e0fb93cecrow1_col4\" class=\"data row1 col4\" >0.000000</td>\n",
       "                        <td id=\"T_5da06572_fda9_11eb_a2f8_999e0fb93cecrow1_col5\" class=\"data row1 col5\" >12.500000</td>\n",
       "                        <td id=\"T_5da06572_fda9_11eb_a2f8_999e0fb93cecrow1_col6\" class=\"data row1 col6\" >100.000000</td>\n",
       "            </tr>\n",
       "            <tr>\n",
       "                        <th id=\"T_5da06572_fda9_11eb_a2f8_999e0fb93ceclevel0_row2\" class=\"row_heading level0 row2\" >INDUS</th>\n",
       "                        <td id=\"T_5da06572_fda9_11eb_a2f8_999e0fb93cecrow2_col0\" class=\"data row2 col0\" >11.136779</td>\n",
       "                        <td id=\"T_5da06572_fda9_11eb_a2f8_999e0fb93cecrow2_col1\" class=\"data row2 col1\" >6.860353</td>\n",
       "                        <td id=\"T_5da06572_fda9_11eb_a2f8_999e0fb93cecrow2_col2\" class=\"data row2 col2\" >0.460000</td>\n",
       "                        <td id=\"T_5da06572_fda9_11eb_a2f8_999e0fb93cecrow2_col3\" class=\"data row2 col3\" >5.190000</td>\n",
       "                        <td id=\"T_5da06572_fda9_11eb_a2f8_999e0fb93cecrow2_col4\" class=\"data row2 col4\" >9.690000</td>\n",
       "                        <td id=\"T_5da06572_fda9_11eb_a2f8_999e0fb93cecrow2_col5\" class=\"data row2 col5\" >18.100000</td>\n",
       "                        <td id=\"T_5da06572_fda9_11eb_a2f8_999e0fb93cecrow2_col6\" class=\"data row2 col6\" >27.740000</td>\n",
       "            </tr>\n",
       "            <tr>\n",
       "                        <th id=\"T_5da06572_fda9_11eb_a2f8_999e0fb93ceclevel0_row3\" class=\"row_heading level0 row3\" >CHAS</th>\n",
       "                        <td id=\"T_5da06572_fda9_11eb_a2f8_999e0fb93cecrow3_col0\" class=\"data row3 col0\" >0.069170</td>\n",
       "                        <td id=\"T_5da06572_fda9_11eb_a2f8_999e0fb93cecrow3_col1\" class=\"data row3 col1\" >0.253994</td>\n",
       "                        <td id=\"T_5da06572_fda9_11eb_a2f8_999e0fb93cecrow3_col2\" class=\"data row3 col2\" >0.000000</td>\n",
       "                        <td id=\"T_5da06572_fda9_11eb_a2f8_999e0fb93cecrow3_col3\" class=\"data row3 col3\" >0.000000</td>\n",
       "                        <td id=\"T_5da06572_fda9_11eb_a2f8_999e0fb93cecrow3_col4\" class=\"data row3 col4\" >0.000000</td>\n",
       "                        <td id=\"T_5da06572_fda9_11eb_a2f8_999e0fb93cecrow3_col5\" class=\"data row3 col5\" >0.000000</td>\n",
       "                        <td id=\"T_5da06572_fda9_11eb_a2f8_999e0fb93cecrow3_col6\" class=\"data row3 col6\" >1.000000</td>\n",
       "            </tr>\n",
       "            <tr>\n",
       "                        <th id=\"T_5da06572_fda9_11eb_a2f8_999e0fb93ceclevel0_row4\" class=\"row_heading level0 row4\" >NOX</th>\n",
       "                        <td id=\"T_5da06572_fda9_11eb_a2f8_999e0fb93cecrow4_col0\" class=\"data row4 col0\" >0.554695</td>\n",
       "                        <td id=\"T_5da06572_fda9_11eb_a2f8_999e0fb93cecrow4_col1\" class=\"data row4 col1\" >0.115878</td>\n",
       "                        <td id=\"T_5da06572_fda9_11eb_a2f8_999e0fb93cecrow4_col2\" class=\"data row4 col2\" >0.385000</td>\n",
       "                        <td id=\"T_5da06572_fda9_11eb_a2f8_999e0fb93cecrow4_col3\" class=\"data row4 col3\" >0.449000</td>\n",
       "                        <td id=\"T_5da06572_fda9_11eb_a2f8_999e0fb93cecrow4_col4\" class=\"data row4 col4\" >0.538000</td>\n",
       "                        <td id=\"T_5da06572_fda9_11eb_a2f8_999e0fb93cecrow4_col5\" class=\"data row4 col5\" >0.624000</td>\n",
       "                        <td id=\"T_5da06572_fda9_11eb_a2f8_999e0fb93cecrow4_col6\" class=\"data row4 col6\" >0.871000</td>\n",
       "            </tr>\n",
       "            <tr>\n",
       "                        <th id=\"T_5da06572_fda9_11eb_a2f8_999e0fb93ceclevel0_row5\" class=\"row_heading level0 row5\" >RM</th>\n",
       "                        <td id=\"T_5da06572_fda9_11eb_a2f8_999e0fb93cecrow5_col0\" class=\"data row5 col0\" >6.284634</td>\n",
       "                        <td id=\"T_5da06572_fda9_11eb_a2f8_999e0fb93cecrow5_col1\" class=\"data row5 col1\" >0.702617</td>\n",
       "                        <td id=\"T_5da06572_fda9_11eb_a2f8_999e0fb93cecrow5_col2\" class=\"data row5 col2\" >3.561000</td>\n",
       "                        <td id=\"T_5da06572_fda9_11eb_a2f8_999e0fb93cecrow5_col3\" class=\"data row5 col3\" >5.885500</td>\n",
       "                        <td id=\"T_5da06572_fda9_11eb_a2f8_999e0fb93cecrow5_col4\" class=\"data row5 col4\" >6.208500</td>\n",
       "                        <td id=\"T_5da06572_fda9_11eb_a2f8_999e0fb93cecrow5_col5\" class=\"data row5 col5\" >6.623500</td>\n",
       "                        <td id=\"T_5da06572_fda9_11eb_a2f8_999e0fb93cecrow5_col6\" class=\"data row5 col6\" >8.780000</td>\n",
       "            </tr>\n",
       "            <tr>\n",
       "                        <th id=\"T_5da06572_fda9_11eb_a2f8_999e0fb93ceclevel0_row6\" class=\"row_heading level0 row6\" >AGE</th>\n",
       "                        <td id=\"T_5da06572_fda9_11eb_a2f8_999e0fb93cecrow6_col0\" class=\"data row6 col0\" >68.574901</td>\n",
       "                        <td id=\"T_5da06572_fda9_11eb_a2f8_999e0fb93cecrow6_col1\" class=\"data row6 col1\" >28.148861</td>\n",
       "                        <td id=\"T_5da06572_fda9_11eb_a2f8_999e0fb93cecrow6_col2\" class=\"data row6 col2\" >2.900000</td>\n",
       "                        <td id=\"T_5da06572_fda9_11eb_a2f8_999e0fb93cecrow6_col3\" class=\"data row6 col3\" >45.025000</td>\n",
       "                        <td id=\"T_5da06572_fda9_11eb_a2f8_999e0fb93cecrow6_col4\" class=\"data row6 col4\" >77.500000</td>\n",
       "                        <td id=\"T_5da06572_fda9_11eb_a2f8_999e0fb93cecrow6_col5\" class=\"data row6 col5\" >94.075000</td>\n",
       "                        <td id=\"T_5da06572_fda9_11eb_a2f8_999e0fb93cecrow6_col6\" class=\"data row6 col6\" >100.000000</td>\n",
       "            </tr>\n",
       "            <tr>\n",
       "                        <th id=\"T_5da06572_fda9_11eb_a2f8_999e0fb93ceclevel0_row7\" class=\"row_heading level0 row7\" >DIS</th>\n",
       "                        <td id=\"T_5da06572_fda9_11eb_a2f8_999e0fb93cecrow7_col0\" class=\"data row7 col0\" >3.795043</td>\n",
       "                        <td id=\"T_5da06572_fda9_11eb_a2f8_999e0fb93cecrow7_col1\" class=\"data row7 col1\" >2.105710</td>\n",
       "                        <td id=\"T_5da06572_fda9_11eb_a2f8_999e0fb93cecrow7_col2\" class=\"data row7 col2\" >1.129600</td>\n",
       "                        <td id=\"T_5da06572_fda9_11eb_a2f8_999e0fb93cecrow7_col3\" class=\"data row7 col3\" >2.100175</td>\n",
       "                        <td id=\"T_5da06572_fda9_11eb_a2f8_999e0fb93cecrow7_col4\" class=\"data row7 col4\" >3.207450</td>\n",
       "                        <td id=\"T_5da06572_fda9_11eb_a2f8_999e0fb93cecrow7_col5\" class=\"data row7 col5\" >5.188425</td>\n",
       "                        <td id=\"T_5da06572_fda9_11eb_a2f8_999e0fb93cecrow7_col6\" class=\"data row7 col6\" >12.126500</td>\n",
       "            </tr>\n",
       "            <tr>\n",
       "                        <th id=\"T_5da06572_fda9_11eb_a2f8_999e0fb93ceclevel0_row8\" class=\"row_heading level0 row8\" >RAD</th>\n",
       "                        <td id=\"T_5da06572_fda9_11eb_a2f8_999e0fb93cecrow8_col0\" class=\"data row8 col0\" >9.549407</td>\n",
       "                        <td id=\"T_5da06572_fda9_11eb_a2f8_999e0fb93cecrow8_col1\" class=\"data row8 col1\" >8.707259</td>\n",
       "                        <td id=\"T_5da06572_fda9_11eb_a2f8_999e0fb93cecrow8_col2\" class=\"data row8 col2\" >1.000000</td>\n",
       "                        <td id=\"T_5da06572_fda9_11eb_a2f8_999e0fb93cecrow8_col3\" class=\"data row8 col3\" >4.000000</td>\n",
       "                        <td id=\"T_5da06572_fda9_11eb_a2f8_999e0fb93cecrow8_col4\" class=\"data row8 col4\" >5.000000</td>\n",
       "                        <td id=\"T_5da06572_fda9_11eb_a2f8_999e0fb93cecrow8_col5\" class=\"data row8 col5\" >24.000000</td>\n",
       "                        <td id=\"T_5da06572_fda9_11eb_a2f8_999e0fb93cecrow8_col6\" class=\"data row8 col6\" >24.000000</td>\n",
       "            </tr>\n",
       "            <tr>\n",
       "                        <th id=\"T_5da06572_fda9_11eb_a2f8_999e0fb93ceclevel0_row9\" class=\"row_heading level0 row9\" >TAX</th>\n",
       "                        <td id=\"T_5da06572_fda9_11eb_a2f8_999e0fb93cecrow9_col0\" class=\"data row9 col0\" >408.237154</td>\n",
       "                        <td id=\"T_5da06572_fda9_11eb_a2f8_999e0fb93cecrow9_col1\" class=\"data row9 col1\" >168.537116</td>\n",
       "                        <td id=\"T_5da06572_fda9_11eb_a2f8_999e0fb93cecrow9_col2\" class=\"data row9 col2\" >187.000000</td>\n",
       "                        <td id=\"T_5da06572_fda9_11eb_a2f8_999e0fb93cecrow9_col3\" class=\"data row9 col3\" >279.000000</td>\n",
       "                        <td id=\"T_5da06572_fda9_11eb_a2f8_999e0fb93cecrow9_col4\" class=\"data row9 col4\" >330.000000</td>\n",
       "                        <td id=\"T_5da06572_fda9_11eb_a2f8_999e0fb93cecrow9_col5\" class=\"data row9 col5\" >666.000000</td>\n",
       "                        <td id=\"T_5da06572_fda9_11eb_a2f8_999e0fb93cecrow9_col6\" class=\"data row9 col6\" >711.000000</td>\n",
       "            </tr>\n",
       "            <tr>\n",
       "                        <th id=\"T_5da06572_fda9_11eb_a2f8_999e0fb93ceclevel0_row10\" class=\"row_heading level0 row10\" >PTRATIO</th>\n",
       "                        <td id=\"T_5da06572_fda9_11eb_a2f8_999e0fb93cecrow10_col0\" class=\"data row10 col0\" >18.455534</td>\n",
       "                        <td id=\"T_5da06572_fda9_11eb_a2f8_999e0fb93cecrow10_col1\" class=\"data row10 col1\" >2.164946</td>\n",
       "                        <td id=\"T_5da06572_fda9_11eb_a2f8_999e0fb93cecrow10_col2\" class=\"data row10 col2\" >12.600000</td>\n",
       "                        <td id=\"T_5da06572_fda9_11eb_a2f8_999e0fb93cecrow10_col3\" class=\"data row10 col3\" >17.400000</td>\n",
       "                        <td id=\"T_5da06572_fda9_11eb_a2f8_999e0fb93cecrow10_col4\" class=\"data row10 col4\" >19.050000</td>\n",
       "                        <td id=\"T_5da06572_fda9_11eb_a2f8_999e0fb93cecrow10_col5\" class=\"data row10 col5\" >20.200000</td>\n",
       "                        <td id=\"T_5da06572_fda9_11eb_a2f8_999e0fb93cecrow10_col6\" class=\"data row10 col6\" >22.000000</td>\n",
       "            </tr>\n",
       "            <tr>\n",
       "                        <th id=\"T_5da06572_fda9_11eb_a2f8_999e0fb93ceclevel0_row11\" class=\"row_heading level0 row11\" >B</th>\n",
       "                        <td id=\"T_5da06572_fda9_11eb_a2f8_999e0fb93cecrow11_col0\" class=\"data row11 col0\" >356.674032</td>\n",
       "                        <td id=\"T_5da06572_fda9_11eb_a2f8_999e0fb93cecrow11_col1\" class=\"data row11 col1\" >91.294864</td>\n",
       "                        <td id=\"T_5da06572_fda9_11eb_a2f8_999e0fb93cecrow11_col2\" class=\"data row11 col2\" >0.320000</td>\n",
       "                        <td id=\"T_5da06572_fda9_11eb_a2f8_999e0fb93cecrow11_col3\" class=\"data row11 col3\" >375.377500</td>\n",
       "                        <td id=\"T_5da06572_fda9_11eb_a2f8_999e0fb93cecrow11_col4\" class=\"data row11 col4\" >391.440000</td>\n",
       "                        <td id=\"T_5da06572_fda9_11eb_a2f8_999e0fb93cecrow11_col5\" class=\"data row11 col5\" >396.225000</td>\n",
       "                        <td id=\"T_5da06572_fda9_11eb_a2f8_999e0fb93cecrow11_col6\" class=\"data row11 col6\" >396.900000</td>\n",
       "            </tr>\n",
       "            <tr>\n",
       "                        <th id=\"T_5da06572_fda9_11eb_a2f8_999e0fb93ceclevel0_row12\" class=\"row_heading level0 row12\" >LSTAT</th>\n",
       "                        <td id=\"T_5da06572_fda9_11eb_a2f8_999e0fb93cecrow12_col0\" class=\"data row12 col0\" >12.653063</td>\n",
       "                        <td id=\"T_5da06572_fda9_11eb_a2f8_999e0fb93cecrow12_col1\" class=\"data row12 col1\" >7.141062</td>\n",
       "                        <td id=\"T_5da06572_fda9_11eb_a2f8_999e0fb93cecrow12_col2\" class=\"data row12 col2\" >1.730000</td>\n",
       "                        <td id=\"T_5da06572_fda9_11eb_a2f8_999e0fb93cecrow12_col3\" class=\"data row12 col3\" >6.950000</td>\n",
       "                        <td id=\"T_5da06572_fda9_11eb_a2f8_999e0fb93cecrow12_col4\" class=\"data row12 col4\" >11.360000</td>\n",
       "                        <td id=\"T_5da06572_fda9_11eb_a2f8_999e0fb93cecrow12_col5\" class=\"data row12 col5\" >16.955000</td>\n",
       "                        <td id=\"T_5da06572_fda9_11eb_a2f8_999e0fb93cecrow12_col6\" class=\"data row12 col6\" >37.970000</td>\n",
       "            </tr>\n",
       "            <tr>\n",
       "                        <th id=\"T_5da06572_fda9_11eb_a2f8_999e0fb93ceclevel0_row13\" class=\"row_heading level0 row13\" >Target</th>\n",
       "                        <td id=\"T_5da06572_fda9_11eb_a2f8_999e0fb93cecrow13_col0\" class=\"data row13 col0\" >22.532806</td>\n",
       "                        <td id=\"T_5da06572_fda9_11eb_a2f8_999e0fb93cecrow13_col1\" class=\"data row13 col1\" >9.197104</td>\n",
       "                        <td id=\"T_5da06572_fda9_11eb_a2f8_999e0fb93cecrow13_col2\" class=\"data row13 col2\" >5.000000</td>\n",
       "                        <td id=\"T_5da06572_fda9_11eb_a2f8_999e0fb93cecrow13_col3\" class=\"data row13 col3\" >17.025000</td>\n",
       "                        <td id=\"T_5da06572_fda9_11eb_a2f8_999e0fb93cecrow13_col4\" class=\"data row13 col4\" >21.200000</td>\n",
       "                        <td id=\"T_5da06572_fda9_11eb_a2f8_999e0fb93cecrow13_col5\" class=\"data row13 col5\" >25.000000</td>\n",
       "                        <td id=\"T_5da06572_fda9_11eb_a2f8_999e0fb93cecrow13_col6\" class=\"data row13 col6\" >50.000000</td>\n",
       "            </tr>\n",
       "    </tbody></table>"
      ],
      "text/plain": [
       "<pandas.io.formats.style.Styler at 0x1b9f1c4c3d0>"
      ]
     },
     "execution_count": 12,
     "metadata": {},
     "output_type": "execute_result"
    }
   ],
   "source": [
    "#red shows the max value of each column\n",
    "df.describe().T.drop('count',axis=1).style.highlight_max(color='red')"
   ]
  },
  {
   "cell_type": "code",
   "execution_count": 13,
   "metadata": {},
   "outputs": [
    {
     "data": {
      "text/html": [
       "<style  type=\"text/css\" >\n",
       "#T_5dac4ef0_fda9_11eb_b2d2_999e0fb93cecrow0_col0,#T_5dac4ef0_fda9_11eb_b2d2_999e0fb93cecrow7_col0,#T_5dac4ef0_fda9_11eb_b2d2_999e0fb93cecrow7_col4{\n",
       "            background-color:  #fff4ee;\n",
       "            color:  #000000;\n",
       "        }#T_5dac4ef0_fda9_11eb_b2d2_999e0fb93cecrow0_col4,#T_5dac4ef0_fda9_11eb_b2d2_999e0fb93cecrow1_col4,#T_5dac4ef0_fda9_11eb_b2d2_999e0fb93cecrow3_col0,#T_5dac4ef0_fda9_11eb_b2d2_999e0fb93cecrow3_col4,#T_5dac4ef0_fda9_11eb_b2d2_999e0fb93cecrow4_col0,#T_5dac4ef0_fda9_11eb_b2d2_999e0fb93cecrow4_col4{\n",
       "            background-color:  #fff5f0;\n",
       "            color:  #000000;\n",
       "        }#T_5dac4ef0_fda9_11eb_b2d2_999e0fb93cecrow1_col0,#T_5dac4ef0_fda9_11eb_b2d2_999e0fb93cecrow12_col0,#T_5dac4ef0_fda9_11eb_b2d2_999e0fb93cecrow12_col4{\n",
       "            background-color:  #fff0e9;\n",
       "            color:  #000000;\n",
       "        }#T_5dac4ef0_fda9_11eb_b2d2_999e0fb93cecrow2_col0,#T_5dac4ef0_fda9_11eb_b2d2_999e0fb93cecrow2_col4{\n",
       "            background-color:  #fff1ea;\n",
       "            color:  #000000;\n",
       "        }#T_5dac4ef0_fda9_11eb_b2d2_999e0fb93cecrow5_col0,#T_5dac4ef0_fda9_11eb_b2d2_999e0fb93cecrow8_col4{\n",
       "            background-color:  #fff3ed;\n",
       "            color:  #000000;\n",
       "        }#T_5dac4ef0_fda9_11eb_b2d2_999e0fb93cecrow5_col4{\n",
       "            background-color:  #fff2ec;\n",
       "            color:  #000000;\n",
       "        }#T_5dac4ef0_fda9_11eb_b2d2_999e0fb93cecrow6_col0{\n",
       "            background-color:  #fdd4c2;\n",
       "            color:  #000000;\n",
       "        }#T_5dac4ef0_fda9_11eb_b2d2_999e0fb93cecrow6_col4{\n",
       "            background-color:  #fdcbb6;\n",
       "            color:  #000000;\n",
       "        }#T_5dac4ef0_fda9_11eb_b2d2_999e0fb93cecrow8_col0{\n",
       "            background-color:  #fff2eb;\n",
       "            color:  #000000;\n",
       "        }#T_5dac4ef0_fda9_11eb_b2d2_999e0fb93cecrow9_col0,#T_5dac4ef0_fda9_11eb_b2d2_999e0fb93cecrow11_col4{\n",
       "            background-color:  #67000d;\n",
       "            color:  #f1f1f1;\n",
       "        }#T_5dac4ef0_fda9_11eb_b2d2_999e0fb93cecrow9_col4{\n",
       "            background-color:  #af1117;\n",
       "            color:  #f1f1f1;\n",
       "        }#T_5dac4ef0_fda9_11eb_b2d2_999e0fb93cecrow10_col0{\n",
       "            background-color:  #ffeee6;\n",
       "            color:  #000000;\n",
       "        }#T_5dac4ef0_fda9_11eb_b2d2_999e0fb93cecrow10_col4{\n",
       "            background-color:  #ffede5;\n",
       "            color:  #000000;\n",
       "        }#T_5dac4ef0_fda9_11eb_b2d2_999e0fb93cecrow11_col0{\n",
       "            background-color:  #a50f15;\n",
       "            color:  #f1f1f1;\n",
       "        }#T_5dac4ef0_fda9_11eb_b2d2_999e0fb93cecrow13_col0{\n",
       "            background-color:  #ffece3;\n",
       "            color:  #000000;\n",
       "        }#T_5dac4ef0_fda9_11eb_b2d2_999e0fb93cecrow13_col4{\n",
       "            background-color:  #ffece4;\n",
       "            color:  #000000;\n",
       "        }</style><table id=\"T_5dac4ef0_fda9_11eb_b2d2_999e0fb93cec\" ><thead>    <tr>        <th class=\"blank level0\" ></th>        <th class=\"col_heading level0 col0\" >mean</th>        <th class=\"col_heading level0 col1\" >std</th>        <th class=\"col_heading level0 col2\" >min</th>        <th class=\"col_heading level0 col3\" >25%</th>        <th class=\"col_heading level0 col4\" >50%</th>        <th class=\"col_heading level0 col5\" >75%</th>        <th class=\"col_heading level0 col6\" >max</th>    </tr></thead><tbody>\n",
       "                <tr>\n",
       "                        <th id=\"T_5dac4ef0_fda9_11eb_b2d2_999e0fb93ceclevel0_row0\" class=\"row_heading level0 row0\" >CRIM</th>\n",
       "                        <td id=\"T_5dac4ef0_fda9_11eb_b2d2_999e0fb93cecrow0_col0\" class=\"data row0 col0\" >3.613524</td>\n",
       "                        <td id=\"T_5dac4ef0_fda9_11eb_b2d2_999e0fb93cecrow0_col1\" class=\"data row0 col1\" >8.601545</td>\n",
       "                        <td id=\"T_5dac4ef0_fda9_11eb_b2d2_999e0fb93cecrow0_col2\" class=\"data row0 col2\" >0.006320</td>\n",
       "                        <td id=\"T_5dac4ef0_fda9_11eb_b2d2_999e0fb93cecrow0_col3\" class=\"data row0 col3\" >0.082045</td>\n",
       "                        <td id=\"T_5dac4ef0_fda9_11eb_b2d2_999e0fb93cecrow0_col4\" class=\"data row0 col4\" >0.256510</td>\n",
       "                        <td id=\"T_5dac4ef0_fda9_11eb_b2d2_999e0fb93cecrow0_col5\" class=\"data row0 col5\" >3.677083</td>\n",
       "                        <td id=\"T_5dac4ef0_fda9_11eb_b2d2_999e0fb93cecrow0_col6\" class=\"data row0 col6\" >88.976200</td>\n",
       "            </tr>\n",
       "            <tr>\n",
       "                        <th id=\"T_5dac4ef0_fda9_11eb_b2d2_999e0fb93ceclevel0_row1\" class=\"row_heading level0 row1\" >ZN</th>\n",
       "                        <td id=\"T_5dac4ef0_fda9_11eb_b2d2_999e0fb93cecrow1_col0\" class=\"data row1 col0\" >11.363636</td>\n",
       "                        <td id=\"T_5dac4ef0_fda9_11eb_b2d2_999e0fb93cecrow1_col1\" class=\"data row1 col1\" >23.322453</td>\n",
       "                        <td id=\"T_5dac4ef0_fda9_11eb_b2d2_999e0fb93cecrow1_col2\" class=\"data row1 col2\" >0.000000</td>\n",
       "                        <td id=\"T_5dac4ef0_fda9_11eb_b2d2_999e0fb93cecrow1_col3\" class=\"data row1 col3\" >0.000000</td>\n",
       "                        <td id=\"T_5dac4ef0_fda9_11eb_b2d2_999e0fb93cecrow1_col4\" class=\"data row1 col4\" >0.000000</td>\n",
       "                        <td id=\"T_5dac4ef0_fda9_11eb_b2d2_999e0fb93cecrow1_col5\" class=\"data row1 col5\" >12.500000</td>\n",
       "                        <td id=\"T_5dac4ef0_fda9_11eb_b2d2_999e0fb93cecrow1_col6\" class=\"data row1 col6\" >100.000000</td>\n",
       "            </tr>\n",
       "            <tr>\n",
       "                        <th id=\"T_5dac4ef0_fda9_11eb_b2d2_999e0fb93ceclevel0_row2\" class=\"row_heading level0 row2\" >INDUS</th>\n",
       "                        <td id=\"T_5dac4ef0_fda9_11eb_b2d2_999e0fb93cecrow2_col0\" class=\"data row2 col0\" >11.136779</td>\n",
       "                        <td id=\"T_5dac4ef0_fda9_11eb_b2d2_999e0fb93cecrow2_col1\" class=\"data row2 col1\" >6.860353</td>\n",
       "                        <td id=\"T_5dac4ef0_fda9_11eb_b2d2_999e0fb93cecrow2_col2\" class=\"data row2 col2\" >0.460000</td>\n",
       "                        <td id=\"T_5dac4ef0_fda9_11eb_b2d2_999e0fb93cecrow2_col3\" class=\"data row2 col3\" >5.190000</td>\n",
       "                        <td id=\"T_5dac4ef0_fda9_11eb_b2d2_999e0fb93cecrow2_col4\" class=\"data row2 col4\" >9.690000</td>\n",
       "                        <td id=\"T_5dac4ef0_fda9_11eb_b2d2_999e0fb93cecrow2_col5\" class=\"data row2 col5\" >18.100000</td>\n",
       "                        <td id=\"T_5dac4ef0_fda9_11eb_b2d2_999e0fb93cecrow2_col6\" class=\"data row2 col6\" >27.740000</td>\n",
       "            </tr>\n",
       "            <tr>\n",
       "                        <th id=\"T_5dac4ef0_fda9_11eb_b2d2_999e0fb93ceclevel0_row3\" class=\"row_heading level0 row3\" >CHAS</th>\n",
       "                        <td id=\"T_5dac4ef0_fda9_11eb_b2d2_999e0fb93cecrow3_col0\" class=\"data row3 col0\" >0.069170</td>\n",
       "                        <td id=\"T_5dac4ef0_fda9_11eb_b2d2_999e0fb93cecrow3_col1\" class=\"data row3 col1\" >0.253994</td>\n",
       "                        <td id=\"T_5dac4ef0_fda9_11eb_b2d2_999e0fb93cecrow3_col2\" class=\"data row3 col2\" >0.000000</td>\n",
       "                        <td id=\"T_5dac4ef0_fda9_11eb_b2d2_999e0fb93cecrow3_col3\" class=\"data row3 col3\" >0.000000</td>\n",
       "                        <td id=\"T_5dac4ef0_fda9_11eb_b2d2_999e0fb93cecrow3_col4\" class=\"data row3 col4\" >0.000000</td>\n",
       "                        <td id=\"T_5dac4ef0_fda9_11eb_b2d2_999e0fb93cecrow3_col5\" class=\"data row3 col5\" >0.000000</td>\n",
       "                        <td id=\"T_5dac4ef0_fda9_11eb_b2d2_999e0fb93cecrow3_col6\" class=\"data row3 col6\" >1.000000</td>\n",
       "            </tr>\n",
       "            <tr>\n",
       "                        <th id=\"T_5dac4ef0_fda9_11eb_b2d2_999e0fb93ceclevel0_row4\" class=\"row_heading level0 row4\" >NOX</th>\n",
       "                        <td id=\"T_5dac4ef0_fda9_11eb_b2d2_999e0fb93cecrow4_col0\" class=\"data row4 col0\" >0.554695</td>\n",
       "                        <td id=\"T_5dac4ef0_fda9_11eb_b2d2_999e0fb93cecrow4_col1\" class=\"data row4 col1\" >0.115878</td>\n",
       "                        <td id=\"T_5dac4ef0_fda9_11eb_b2d2_999e0fb93cecrow4_col2\" class=\"data row4 col2\" >0.385000</td>\n",
       "                        <td id=\"T_5dac4ef0_fda9_11eb_b2d2_999e0fb93cecrow4_col3\" class=\"data row4 col3\" >0.449000</td>\n",
       "                        <td id=\"T_5dac4ef0_fda9_11eb_b2d2_999e0fb93cecrow4_col4\" class=\"data row4 col4\" >0.538000</td>\n",
       "                        <td id=\"T_5dac4ef0_fda9_11eb_b2d2_999e0fb93cecrow4_col5\" class=\"data row4 col5\" >0.624000</td>\n",
       "                        <td id=\"T_5dac4ef0_fda9_11eb_b2d2_999e0fb93cecrow4_col6\" class=\"data row4 col6\" >0.871000</td>\n",
       "            </tr>\n",
       "            <tr>\n",
       "                        <th id=\"T_5dac4ef0_fda9_11eb_b2d2_999e0fb93ceclevel0_row5\" class=\"row_heading level0 row5\" >RM</th>\n",
       "                        <td id=\"T_5dac4ef0_fda9_11eb_b2d2_999e0fb93cecrow5_col0\" class=\"data row5 col0\" >6.284634</td>\n",
       "                        <td id=\"T_5dac4ef0_fda9_11eb_b2d2_999e0fb93cecrow5_col1\" class=\"data row5 col1\" >0.702617</td>\n",
       "                        <td id=\"T_5dac4ef0_fda9_11eb_b2d2_999e0fb93cecrow5_col2\" class=\"data row5 col2\" >3.561000</td>\n",
       "                        <td id=\"T_5dac4ef0_fda9_11eb_b2d2_999e0fb93cecrow5_col3\" class=\"data row5 col3\" >5.885500</td>\n",
       "                        <td id=\"T_5dac4ef0_fda9_11eb_b2d2_999e0fb93cecrow5_col4\" class=\"data row5 col4\" >6.208500</td>\n",
       "                        <td id=\"T_5dac4ef0_fda9_11eb_b2d2_999e0fb93cecrow5_col5\" class=\"data row5 col5\" >6.623500</td>\n",
       "                        <td id=\"T_5dac4ef0_fda9_11eb_b2d2_999e0fb93cecrow5_col6\" class=\"data row5 col6\" >8.780000</td>\n",
       "            </tr>\n",
       "            <tr>\n",
       "                        <th id=\"T_5dac4ef0_fda9_11eb_b2d2_999e0fb93ceclevel0_row6\" class=\"row_heading level0 row6\" >AGE</th>\n",
       "                        <td id=\"T_5dac4ef0_fda9_11eb_b2d2_999e0fb93cecrow6_col0\" class=\"data row6 col0\" >68.574901</td>\n",
       "                        <td id=\"T_5dac4ef0_fda9_11eb_b2d2_999e0fb93cecrow6_col1\" class=\"data row6 col1\" >28.148861</td>\n",
       "                        <td id=\"T_5dac4ef0_fda9_11eb_b2d2_999e0fb93cecrow6_col2\" class=\"data row6 col2\" >2.900000</td>\n",
       "                        <td id=\"T_5dac4ef0_fda9_11eb_b2d2_999e0fb93cecrow6_col3\" class=\"data row6 col3\" >45.025000</td>\n",
       "                        <td id=\"T_5dac4ef0_fda9_11eb_b2d2_999e0fb93cecrow6_col4\" class=\"data row6 col4\" >77.500000</td>\n",
       "                        <td id=\"T_5dac4ef0_fda9_11eb_b2d2_999e0fb93cecrow6_col5\" class=\"data row6 col5\" >94.075000</td>\n",
       "                        <td id=\"T_5dac4ef0_fda9_11eb_b2d2_999e0fb93cecrow6_col6\" class=\"data row6 col6\" >100.000000</td>\n",
       "            </tr>\n",
       "            <tr>\n",
       "                        <th id=\"T_5dac4ef0_fda9_11eb_b2d2_999e0fb93ceclevel0_row7\" class=\"row_heading level0 row7\" >DIS</th>\n",
       "                        <td id=\"T_5dac4ef0_fda9_11eb_b2d2_999e0fb93cecrow7_col0\" class=\"data row7 col0\" >3.795043</td>\n",
       "                        <td id=\"T_5dac4ef0_fda9_11eb_b2d2_999e0fb93cecrow7_col1\" class=\"data row7 col1\" >2.105710</td>\n",
       "                        <td id=\"T_5dac4ef0_fda9_11eb_b2d2_999e0fb93cecrow7_col2\" class=\"data row7 col2\" >1.129600</td>\n",
       "                        <td id=\"T_5dac4ef0_fda9_11eb_b2d2_999e0fb93cecrow7_col3\" class=\"data row7 col3\" >2.100175</td>\n",
       "                        <td id=\"T_5dac4ef0_fda9_11eb_b2d2_999e0fb93cecrow7_col4\" class=\"data row7 col4\" >3.207450</td>\n",
       "                        <td id=\"T_5dac4ef0_fda9_11eb_b2d2_999e0fb93cecrow7_col5\" class=\"data row7 col5\" >5.188425</td>\n",
       "                        <td id=\"T_5dac4ef0_fda9_11eb_b2d2_999e0fb93cecrow7_col6\" class=\"data row7 col6\" >12.126500</td>\n",
       "            </tr>\n",
       "            <tr>\n",
       "                        <th id=\"T_5dac4ef0_fda9_11eb_b2d2_999e0fb93ceclevel0_row8\" class=\"row_heading level0 row8\" >RAD</th>\n",
       "                        <td id=\"T_5dac4ef0_fda9_11eb_b2d2_999e0fb93cecrow8_col0\" class=\"data row8 col0\" >9.549407</td>\n",
       "                        <td id=\"T_5dac4ef0_fda9_11eb_b2d2_999e0fb93cecrow8_col1\" class=\"data row8 col1\" >8.707259</td>\n",
       "                        <td id=\"T_5dac4ef0_fda9_11eb_b2d2_999e0fb93cecrow8_col2\" class=\"data row8 col2\" >1.000000</td>\n",
       "                        <td id=\"T_5dac4ef0_fda9_11eb_b2d2_999e0fb93cecrow8_col3\" class=\"data row8 col3\" >4.000000</td>\n",
       "                        <td id=\"T_5dac4ef0_fda9_11eb_b2d2_999e0fb93cecrow8_col4\" class=\"data row8 col4\" >5.000000</td>\n",
       "                        <td id=\"T_5dac4ef0_fda9_11eb_b2d2_999e0fb93cecrow8_col5\" class=\"data row8 col5\" >24.000000</td>\n",
       "                        <td id=\"T_5dac4ef0_fda9_11eb_b2d2_999e0fb93cecrow8_col6\" class=\"data row8 col6\" >24.000000</td>\n",
       "            </tr>\n",
       "            <tr>\n",
       "                        <th id=\"T_5dac4ef0_fda9_11eb_b2d2_999e0fb93ceclevel0_row9\" class=\"row_heading level0 row9\" >TAX</th>\n",
       "                        <td id=\"T_5dac4ef0_fda9_11eb_b2d2_999e0fb93cecrow9_col0\" class=\"data row9 col0\" >408.237154</td>\n",
       "                        <td id=\"T_5dac4ef0_fda9_11eb_b2d2_999e0fb93cecrow9_col1\" class=\"data row9 col1\" >168.537116</td>\n",
       "                        <td id=\"T_5dac4ef0_fda9_11eb_b2d2_999e0fb93cecrow9_col2\" class=\"data row9 col2\" >187.000000</td>\n",
       "                        <td id=\"T_5dac4ef0_fda9_11eb_b2d2_999e0fb93cecrow9_col3\" class=\"data row9 col3\" >279.000000</td>\n",
       "                        <td id=\"T_5dac4ef0_fda9_11eb_b2d2_999e0fb93cecrow9_col4\" class=\"data row9 col4\" >330.000000</td>\n",
       "                        <td id=\"T_5dac4ef0_fda9_11eb_b2d2_999e0fb93cecrow9_col5\" class=\"data row9 col5\" >666.000000</td>\n",
       "                        <td id=\"T_5dac4ef0_fda9_11eb_b2d2_999e0fb93cecrow9_col6\" class=\"data row9 col6\" >711.000000</td>\n",
       "            </tr>\n",
       "            <tr>\n",
       "                        <th id=\"T_5dac4ef0_fda9_11eb_b2d2_999e0fb93ceclevel0_row10\" class=\"row_heading level0 row10\" >PTRATIO</th>\n",
       "                        <td id=\"T_5dac4ef0_fda9_11eb_b2d2_999e0fb93cecrow10_col0\" class=\"data row10 col0\" >18.455534</td>\n",
       "                        <td id=\"T_5dac4ef0_fda9_11eb_b2d2_999e0fb93cecrow10_col1\" class=\"data row10 col1\" >2.164946</td>\n",
       "                        <td id=\"T_5dac4ef0_fda9_11eb_b2d2_999e0fb93cecrow10_col2\" class=\"data row10 col2\" >12.600000</td>\n",
       "                        <td id=\"T_5dac4ef0_fda9_11eb_b2d2_999e0fb93cecrow10_col3\" class=\"data row10 col3\" >17.400000</td>\n",
       "                        <td id=\"T_5dac4ef0_fda9_11eb_b2d2_999e0fb93cecrow10_col4\" class=\"data row10 col4\" >19.050000</td>\n",
       "                        <td id=\"T_5dac4ef0_fda9_11eb_b2d2_999e0fb93cecrow10_col5\" class=\"data row10 col5\" >20.200000</td>\n",
       "                        <td id=\"T_5dac4ef0_fda9_11eb_b2d2_999e0fb93cecrow10_col6\" class=\"data row10 col6\" >22.000000</td>\n",
       "            </tr>\n",
       "            <tr>\n",
       "                        <th id=\"T_5dac4ef0_fda9_11eb_b2d2_999e0fb93ceclevel0_row11\" class=\"row_heading level0 row11\" >B</th>\n",
       "                        <td id=\"T_5dac4ef0_fda9_11eb_b2d2_999e0fb93cecrow11_col0\" class=\"data row11 col0\" >356.674032</td>\n",
       "                        <td id=\"T_5dac4ef0_fda9_11eb_b2d2_999e0fb93cecrow11_col1\" class=\"data row11 col1\" >91.294864</td>\n",
       "                        <td id=\"T_5dac4ef0_fda9_11eb_b2d2_999e0fb93cecrow11_col2\" class=\"data row11 col2\" >0.320000</td>\n",
       "                        <td id=\"T_5dac4ef0_fda9_11eb_b2d2_999e0fb93cecrow11_col3\" class=\"data row11 col3\" >375.377500</td>\n",
       "                        <td id=\"T_5dac4ef0_fda9_11eb_b2d2_999e0fb93cecrow11_col4\" class=\"data row11 col4\" >391.440000</td>\n",
       "                        <td id=\"T_5dac4ef0_fda9_11eb_b2d2_999e0fb93cecrow11_col5\" class=\"data row11 col5\" >396.225000</td>\n",
       "                        <td id=\"T_5dac4ef0_fda9_11eb_b2d2_999e0fb93cecrow11_col6\" class=\"data row11 col6\" >396.900000</td>\n",
       "            </tr>\n",
       "            <tr>\n",
       "                        <th id=\"T_5dac4ef0_fda9_11eb_b2d2_999e0fb93ceclevel0_row12\" class=\"row_heading level0 row12\" >LSTAT</th>\n",
       "                        <td id=\"T_5dac4ef0_fda9_11eb_b2d2_999e0fb93cecrow12_col0\" class=\"data row12 col0\" >12.653063</td>\n",
       "                        <td id=\"T_5dac4ef0_fda9_11eb_b2d2_999e0fb93cecrow12_col1\" class=\"data row12 col1\" >7.141062</td>\n",
       "                        <td id=\"T_5dac4ef0_fda9_11eb_b2d2_999e0fb93cecrow12_col2\" class=\"data row12 col2\" >1.730000</td>\n",
       "                        <td id=\"T_5dac4ef0_fda9_11eb_b2d2_999e0fb93cecrow12_col3\" class=\"data row12 col3\" >6.950000</td>\n",
       "                        <td id=\"T_5dac4ef0_fda9_11eb_b2d2_999e0fb93cecrow12_col4\" class=\"data row12 col4\" >11.360000</td>\n",
       "                        <td id=\"T_5dac4ef0_fda9_11eb_b2d2_999e0fb93cecrow12_col5\" class=\"data row12 col5\" >16.955000</td>\n",
       "                        <td id=\"T_5dac4ef0_fda9_11eb_b2d2_999e0fb93cecrow12_col6\" class=\"data row12 col6\" >37.970000</td>\n",
       "            </tr>\n",
       "            <tr>\n",
       "                        <th id=\"T_5dac4ef0_fda9_11eb_b2d2_999e0fb93ceclevel0_row13\" class=\"row_heading level0 row13\" >Target</th>\n",
       "                        <td id=\"T_5dac4ef0_fda9_11eb_b2d2_999e0fb93cecrow13_col0\" class=\"data row13 col0\" >22.532806</td>\n",
       "                        <td id=\"T_5dac4ef0_fda9_11eb_b2d2_999e0fb93cecrow13_col1\" class=\"data row13 col1\" >9.197104</td>\n",
       "                        <td id=\"T_5dac4ef0_fda9_11eb_b2d2_999e0fb93cecrow13_col2\" class=\"data row13 col2\" >5.000000</td>\n",
       "                        <td id=\"T_5dac4ef0_fda9_11eb_b2d2_999e0fb93cecrow13_col3\" class=\"data row13 col3\" >17.025000</td>\n",
       "                        <td id=\"T_5dac4ef0_fda9_11eb_b2d2_999e0fb93cecrow13_col4\" class=\"data row13 col4\" >21.200000</td>\n",
       "                        <td id=\"T_5dac4ef0_fda9_11eb_b2d2_999e0fb93cecrow13_col5\" class=\"data row13 col5\" >25.000000</td>\n",
       "                        <td id=\"T_5dac4ef0_fda9_11eb_b2d2_999e0fb93cecrow13_col6\" class=\"data row13 col6\" >50.000000</td>\n",
       "            </tr>\n",
       "    </tbody></table>"
      ],
      "text/plain": [
       "<pandas.io.formats.style.Styler at 0x1b9f7057970>"
      ]
     },
     "execution_count": 13,
     "metadata": {},
     "output_type": "execute_result"
    }
   ],
   "source": [
    "#similar to above function, gradient transparency decreases as values increase; max value is deep red\n",
    "df.describe().T.drop('count',axis=1).style.background_gradient(subset=['mean','50%'],cmap='Reds')"
   ]
  },
  {
   "cell_type": "code",
   "execution_count": 106,
   "metadata": {},
   "outputs": [
    {
     "data": {
      "image/png": "[encoded data removed]",
      "text/plain": [
       "<Figure size 864x432 with 2 Axes>"
      ]
     },
     "metadata": {},
     "output_type": "display_data"
    }
   ],
   "source": [
    "#correlation\n",
    "plt.figure(figsize=(12,6))\n",
    "sns.heatmap(data=df.corr(),vmin=-1,vmax=1,center=0,cmap=sns.diverging_palette(20,220,n=400),square=True)\n",
    "plt.savefig('correlplot.png',bbox_inches='tight')\n",
    "#rad-tax highly correlated"
   ]
  },
  {
   "cell_type": "code",
   "execution_count": 15,
   "metadata": {},
   "outputs": [
    {
     "data": {
      "image/png": "[encoded data removed]",
      "text/plain": [
       "<Figure size 864x864 with 16 Axes>"
      ]
     },
     "metadata": {
      "needs_background": "light"
     },
     "output_type": "display_data"
    }
   ],
   "source": [
    "#unimodal data visualization\n",
    "#add bell curves\n",
    "df.hist(figsize=(12,12));"
   ]
  },
  {
   "cell_type": "code",
   "execution_count": 16,
   "metadata": {},
   "outputs": [
    {
     "data": {
      "image/png": "[encoded data removed]",
      "text/plain": [
       "<Figure size 864x864 with 16 Axes>"
      ]
     },
     "metadata": {
      "needs_background": "light"
     },
     "output_type": "display_data"
    }
   ],
   "source": [
    "#box and whisker plots to identify extreme values\n",
    "df.plot(kind='box',subplots=True,layout=(4,4),fontsize=8,figsize=(12,12));"
   ]
  },
  {
   "cell_type": "code",
   "execution_count": 17,
   "metadata": {},
   "outputs": [
    {
     "name": "stderr",
     "output_type": "stream",
     "text": [
      "C:\\Users\\sanyalam\\Anaconda3\\lib\\site-packages\\seaborn\\distributions.py:2551: FutureWarning: `distplot` is a deprecated function and will be removed in a future version. Please adapt your code to use either `displot` (a figure-level function with similar flexibility) or `histplot` (an axes-level function for histograms).\n",
      "  warnings.warn(msg, FutureWarning)\n"
     ]
    },
    {
     "data": {
      "image/png": "[encoded data removed]",
      "text/plain": [
       "<Figure size 432x288 with 1 Axes>"
      ]
     },
     "metadata": {
      "needs_background": "light"
     },
     "output_type": "display_data"
    }
   ],
   "source": [
    "sns.distplot(df['Target']);"
   ]
  },
  {
   "cell_type": "code",
   "execution_count": 18,
   "metadata": {},
   "outputs": [
    {
     "data": {
      "text/plain": [
       "<seaborn.axisgrid.JointGrid at 0x1b9f83db400>"
      ]
     },
     "execution_count": 18,
     "metadata": {},
     "output_type": "execute_result"
    },
    {
     "data": {
      "image/png": "[encoded data removed]",
      "text/plain": [
       "<Figure size 432x432 with 3 Axes>"
      ]
     },
     "metadata": {
      "needs_background": "light"
     },
     "output_type": "display_data"
    }
   ],
   "source": [
    "#between variables RM and the target variable\n",
    "sns.jointplot(x='RM',y='Target',data=df,kind='hex',color='g')"
   ]
  },
  {
   "cell_type": "code",
   "execution_count": 19,
   "metadata": {},
   "outputs": [],
   "source": [
    "sns.set_style('darkgrid')\n",
    "#sns.pairplot(df,kind='reg');"
   ]
  },
  {
   "cell_type": "code",
   "execution_count": 20,
   "metadata": {},
   "outputs": [],
   "source": [
    "#importing functions for linear regression\n",
    "from sklearn import linear_model\n",
    "from sklearn.model_selection import train_test_split"
   ]
  },
  {
   "cell_type": "code",
   "execution_count": 21,
   "metadata": {},
   "outputs": [],
   "source": [
    "#dependent variable\n",
    "df_y=pd.DataFrame(df.Target)\n",
    "df_x=pd.DataFrame(boston_df.data,columns=boston_df.feature_names)"
   ]
  },
  {
   "cell_type": "code",
   "execution_count": 22,
   "metadata": {},
   "outputs": [],
   "source": [
    "#initialising the linear regression model\n",
    "reg=linear_model.LinearRegression()"
   ]
  },
  {
   "cell_type": "code",
   "execution_count": 23,
   "metadata": {},
   "outputs": [],
   "source": [
    "#spliiting the data for train and test\n",
    "#67% training and 33% testing\n",
    "x_train,x_test,y_train,y_test=train_test_split(df_x,df_y,test_size=0.33,random_state=42)"
   ]
  },
  {
   "cell_type": "code",
   "execution_count": 24,
   "metadata": {},
   "outputs": [
    {
     "data": {
      "text/plain": [
       "LinearRegression()"
      ]
     },
     "execution_count": 24,
     "metadata": {},
     "output_type": "execute_result"
    }
   ],
   "source": [
    "#train the model with the training data\n",
    "reg.fit(x_train,y_train)"
   ]
  },
  {
   "cell_type": "code",
   "execution_count": 25,
   "metadata": {},
   "outputs": [
    {
     "name": "stdout",
     "output_type": "stream",
     "text": [
      "[[-1.28749718e-01  3.78232228e-02  5.82109233e-02  3.23866812e+00\n",
      "  -1.61698120e+01  3.90205116e+00 -1.28507825e-02 -1.42222430e+00\n",
      "   2.34853915e-01 -8.21331947e-03 -9.28722459e-01  1.17695921e-02\n",
      "  -5.47566338e-01]]\n"
     ]
    }
   ],
   "source": [
    "#print the coefficients/weight for each feature of the model\n",
    "print(reg.coef_)"
   ]
  },
  {
   "cell_type": "code",
   "execution_count": 26,
   "metadata": {},
   "outputs": [
    {
     "data": {
      "text/plain": [
       "array([33.33497576])"
      ]
     },
     "execution_count": 26,
     "metadata": {},
     "output_type": "execute_result"
    }
   ],
   "source": [
    "reg.intercept_"
   ]
  },
  {
   "cell_type": "code",
   "execution_count": 27,
   "metadata": {},
   "outputs": [
    {
     "name": "stdout",
     "output_type": "stream",
     "text": [
      "[[28.53469469]\n",
      " [36.6187006 ]\n",
      " [15.63751079]\n",
      " [25.5014496 ]\n",
      " [18.7096734 ]\n",
      " [23.16471591]\n",
      " [17.31011035]\n",
      " [14.07736367]\n",
      " [23.01064388]\n",
      " [20.54223482]\n",
      " [24.91632351]\n",
      " [18.41098052]\n",
      " [-6.52079687]\n",
      " [21.83372604]\n",
      " [19.14903064]\n",
      " [26.0587322 ]\n",
      " [20.30232625]\n",
      " [ 5.74943567]\n",
      " [40.33137811]\n",
      " [17.45791446]\n",
      " [27.47486665]\n",
      " [30.2170757 ]\n",
      " [10.80555625]\n",
      " [23.87721728]\n",
      " [17.99492211]\n",
      " [16.02608791]\n",
      " [23.268288  ]\n",
      " [14.36825207]\n",
      " [22.38116971]\n",
      " [19.3092068 ]\n",
      " [22.17284576]\n",
      " [25.05925441]\n",
      " [25.13780726]\n",
      " [18.46730198]\n",
      " [16.60405712]\n",
      " [17.46564046]\n",
      " [30.71367733]\n",
      " [20.05106788]\n",
      " [23.9897768 ]\n",
      " [24.94322408]\n",
      " [13.97945355]\n",
      " [31.64706967]\n",
      " [42.48057206]\n",
      " [17.70042814]\n",
      " [26.92507869]\n",
      " [17.15897719]\n",
      " [13.68918087]\n",
      " [26.14924245]\n",
      " [20.2782306 ]\n",
      " [29.99003492]\n",
      " [21.21260347]\n",
      " [34.03649185]\n",
      " [15.41837553]\n",
      " [25.95781061]\n",
      " [39.13897274]\n",
      " [22.96118424]\n",
      " [18.80310558]\n",
      " [33.07865362]\n",
      " [24.74384155]\n",
      " [12.83640958]\n",
      " [22.41963398]\n",
      " [30.64804979]\n",
      " [31.59567111]\n",
      " [16.34088197]\n",
      " [20.9504304 ]\n",
      " [16.70145875]\n",
      " [20.23215646]\n",
      " [26.1437865 ]\n",
      " [31.12160889]\n",
      " [11.89762768]\n",
      " [20.45432404]\n",
      " [27.48356359]\n",
      " [10.89034224]\n",
      " [16.77707214]\n",
      " [24.02593714]\n",
      " [ 5.44691807]\n",
      " [21.35152331]\n",
      " [41.27267175]\n",
      " [18.13447647]\n",
      " [ 9.8012101 ]\n",
      " [21.24024342]\n",
      " [13.02644969]\n",
      " [21.80198374]\n",
      " [ 9.48201752]\n",
      " [22.99183857]\n",
      " [31.90465631]\n",
      " [18.95594718]\n",
      " [25.48515032]\n",
      " [29.49687019]\n",
      " [20.07282539]\n",
      " [25.5616062 ]\n",
      " [ 5.59584382]\n",
      " [20.18410904]\n",
      " [15.08773299]\n",
      " [14.34562117]\n",
      " [20.85155407]\n",
      " [24.80149389]\n",
      " [-0.19785401]\n",
      " [13.57649004]\n",
      " [15.64401679]\n",
      " [22.03765773]\n",
      " [24.70314482]\n",
      " [10.86409112]\n",
      " [19.60231067]\n",
      " [23.73429161]\n",
      " [12.08082177]\n",
      " [18.40997903]\n",
      " [25.4366158 ]\n",
      " [20.76506636]\n",
      " [24.68588237]\n",
      " [ 7.4995836 ]\n",
      " [18.93015665]\n",
      " [21.70801764]\n",
      " [27.14350579]\n",
      " [31.93765208]\n",
      " [15.19483586]\n",
      " [34.01357428]\n",
      " [12.85763091]\n",
      " [21.06646184]\n",
      " [28.58470042]\n",
      " [15.77437534]\n",
      " [24.77512495]\n",
      " [ 3.64655689]\n",
      " [23.91169589]\n",
      " [25.82292925]\n",
      " [23.03339677]\n",
      " [25.35158335]\n",
      " [33.05655447]\n",
      " [20.65930467]\n",
      " [38.18917361]\n",
      " [14.04714297]\n",
      " [25.26034469]\n",
      " [17.6138723 ]\n",
      " [20.60883766]\n",
      " [ 9.8525544 ]\n",
      " [21.06756951]\n",
      " [22.20145587]\n",
      " [32.2920276 ]\n",
      " [31.57638342]\n",
      " [15.29265938]\n",
      " [16.7100235 ]\n",
      " [29.10550932]\n",
      " [25.17762329]\n",
      " [16.88159225]\n",
      " [ 6.32621877]\n",
      " [26.70210263]\n",
      " [23.3525851 ]\n",
      " [17.24168182]\n",
      " [13.22815696]\n",
      " [39.49907507]\n",
      " [16.53528575]\n",
      " [18.14635902]\n",
      " [25.06620426]\n",
      " [23.70640231]\n",
      " [22.20167772]\n",
      " [21.22272327]\n",
      " [16.89825921]\n",
      " [23.15518273]\n",
      " [28.69699805]\n",
      " [ 6.65526482]\n",
      " [23.98399958]\n",
      " [17.21004545]\n",
      " [21.0574427 ]\n",
      " [25.01734597]\n",
      " [27.65461859]\n",
      " [20.70205823]\n",
      " [40.38214871]]\n"
     ]
    }
   ],
   "source": [
    "#print the predictions on test dataset\n",
    "y_pred=reg.predict(x_test)\n",
    "print(y_pred)"
   ]
  },
  {
   "cell_type": "code",
   "execution_count": 28,
   "metadata": {},
   "outputs": [
    {
     "name": "stdout",
     "output_type": "stream",
     "text": [
      "     Target\n",
      "173    23.6\n",
      "274    32.4\n",
      "491    13.6\n",
      "72     22.8\n",
      "452    16.1\n",
      "..      ...\n",
      "110    21.7\n",
      "321    23.1\n",
      "265    22.8\n",
      "29     21.0\n",
      "262    48.8\n",
      "\n",
      "[167 rows x 1 columns]\n"
     ]
    }
   ],
   "source": [
    "print(y_test)"
   ]
  },
  {
   "cell_type": "code",
   "execution_count": 29,
   "metadata": {},
   "outputs": [
    {
     "name": "stdout",
     "output_type": "stream",
     "text": [
      "Mean Absolude Error is 3.1482557548168217\n",
      "Mean Squared Error is 1.7743324814748846\n"
     ]
    }
   ],
   "source": [
    "from sklearn.metrics import mean_absolute_error\n",
    "import math\n",
    "print(\"Mean Absolude Error is {}\".format( (mean_absolute_error(y_pred, y_test))))\n",
    "print(\"Mean Squared Error is {}\".format( math.sqrt(mean_absolute_error(y_pred, y_test))))"
   ]
  },
  {
   "cell_type": "code",
   "execution_count": 30,
   "metadata": {},
   "outputs": [
    {
     "name": "stdout",
     "output_type": "stream",
     "text": [
      "Target    20.724023\n",
      "dtype: float64\n"
     ]
    }
   ],
   "source": [
    "#model performance/accuracy using MSE\n",
    "print(np.mean((y_pred-y_test)**2))"
   ]
  },
  {
   "cell_type": "code",
   "execution_count": 31,
   "metadata": {},
   "outputs": [
    {
     "name": "stdout",
     "output_type": "stream",
     "text": [
      "20.72402343733974\n"
     ]
    }
   ],
   "source": [
    "#from sklearn metrics MSE\n",
    "from sklearn.metrics import mean_squared_error\n",
    "print(mean_squared_error(y_test,y_pred))"
   ]
  },
  {
   "cell_type": "code",
   "execution_count": 32,
   "metadata": {},
   "outputs": [],
   "source": [
    "##Different part# creating a copy of the original dataset\n",
    "#df_copy=df.copy()"
   ]
  },
  {
   "cell_type": "code",
   "execution_count": 33,
   "metadata": {},
   "outputs": [
    {
     "data": {
      "image/png": "[encoded data removed]",
      "text/plain": [
       "<Figure size 432x288 with 1 Axes>"
      ]
     },
     "metadata": {},
     "output_type": "display_data"
    }
   ],
   "source": [
    "#plot\n",
    "#as crime rate increases housing prices decreases\n",
    "plt.bar(df.CRIM,df.Target)\n",
    "plt.xlabel('Crime rate')\n",
    "plt.ylabel('Price of House')\n",
    "plt.title('Crime rate vs house price')\n",
    "plt.show()"
   ]
  },
  {
   "cell_type": "code",
   "execution_count": 34,
   "metadata": {},
   "outputs": [],
   "source": [
    "#replacing 0 by NaN\n",
    "#df_copy.ZN.replace(0,np.nan,inplace=True)\n",
    "#df_copy.CHAS.replace(0,np.nan,inplace=True)"
   ]
  },
  {
   "cell_type": "code",
   "execution_count": 35,
   "metadata": {},
   "outputs": [
    {
     "data": {
      "text/plain": [
       "0.0    471\n",
       "1.0     35\n",
       "Name: CHAS, dtype: int64"
      ]
     },
     "execution_count": 35,
     "metadata": {},
     "output_type": "execute_result"
    }
   ],
   "source": [
    "#no of 0 values in CHAS > 50% of dataset\n",
    "df['CHAS'].value_counts(dropna=False)"
   ]
  },
  {
   "cell_type": "code",
   "execution_count": 36,
   "metadata": {},
   "outputs": [
    {
     "data": {
      "image/png": "[encoded data removed]",
      "text/plain": [
       "<Figure size 432x288 with 1 Axes>"
      ]
     },
     "metadata": {},
     "output_type": "display_data"
    }
   ],
   "source": [
    "#boxplots of CHAS vs CRIM\n",
    "char1=df.loc[df['CHAS']==0,'CRIM'].values\n",
    "char2=df.loc[df['CHAS']==1,'CRIM'].values\n",
    "plt.boxplot([char1,char2],labels=['0','1']);"
   ]
  },
  {
   "cell_type": "code",
   "execution_count": 37,
   "metadata": {},
   "outputs": [
    {
     "data": {
      "text/plain": [
       "LinearRegression()"
      ]
     },
     "execution_count": 37,
     "metadata": {},
     "output_type": "execute_result"
    }
   ],
   "source": [
    "##feature engineering #codebasics video\n",
    "reg_1=linear_model.LinearRegression()\n",
    "reg_1.fit(df_x,df_y)"
   ]
  },
  {
   "cell_type": "code",
   "execution_count": 38,
   "metadata": {},
   "outputs": [
    {
     "data": {
      "text/plain": [
       "array([[-1.08011358e-01,  4.64204584e-02,  2.05586264e-02,\n",
       "         2.68673382e+00, -1.77666112e+01,  3.80986521e+00,\n",
       "         6.92224640e-04, -1.47556685e+00,  3.06049479e-01,\n",
       "        -1.23345939e-02, -9.52747232e-01,  9.31168327e-03,\n",
       "        -5.24758378e-01]])"
      ]
     },
     "execution_count": 38,
     "metadata": {},
     "output_type": "execute_result"
    }
   ],
   "source": [
    "#coefficients\n",
    "reg_1.coef_"
   ]
  },
  {
   "cell_type": "code",
   "execution_count": 39,
   "metadata": {},
   "outputs": [
    {
     "data": {
      "text/plain": [
       "array([36.45948839])"
      ]
     },
     "execution_count": 39,
     "metadata": {},
     "output_type": "execute_result"
    }
   ],
   "source": [
    "reg_1.intercept_"
   ]
  },
  {
   "cell_type": "code",
   "execution_count": 40,
   "metadata": {},
   "outputs": [
    {
     "data": {
      "text/plain": [
       "array([[31.63063982]])"
      ]
     },
     "execution_count": 40,
     "metadata": {},
     "output_type": "execute_result"
    }
   ],
   "source": [
    "#house price with certain features\n",
    "#price will be 32\n",
    "reg_1.predict([[0.05,18,1.5,1,0.7,5.5,40,2,1,150,15.3,400,3]])"
   ]
  },
  {
   "cell_type": "code",
   "execution_count": 41,
   "metadata": {},
   "outputs": [
    {
     "data": {
      "text/plain": [
       "0.7406426641094095"
      ]
     },
     "execution_count": 41,
     "metadata": {},
     "output_type": "execute_result"
    }
   ],
   "source": [
    "#score of normal linear regression analysis\n",
    "reg_1.score(df_x,df_y)"
   ]
  },
  {
   "cell_type": "markdown",
   "metadata": {},
   "source": [
    "## PART 2:  TRAINING DATASET, USING SPLIT-TRAIN METHOD"
   ]
  },
  {
   "cell_type": "code",
   "execution_count": 42,
   "metadata": {},
   "outputs": [],
   "source": [
    "##train,test again code basics\n",
    "## training dataset: 80%; test dataset:20%\n",
    "X_train,X_test,Y_train,Y_test=train_test_split(df_x,df_y,test_size=0.2)"
   ]
  },
  {
   "cell_type": "code",
   "execution_count": 43,
   "metadata": {},
   "outputs": [
    {
     "data": {
      "text/plain": [
       "404"
      ]
     },
     "execution_count": 43,
     "metadata": {},
     "output_type": "execute_result"
    }
   ],
   "source": [
    "#80% of sample\n",
    "len(X_train)"
   ]
  },
  {
   "cell_type": "code",
   "execution_count": 44,
   "metadata": {},
   "outputs": [],
   "source": [
    "from sklearn.linear_model import LinearRegression\n",
    "clf=LinearRegression()"
   ]
  },
  {
   "cell_type": "code",
   "execution_count": 45,
   "metadata": {},
   "outputs": [
    {
     "data": {
      "text/plain": [
       "LinearRegression()"
      ]
     },
     "execution_count": 45,
     "metadata": {},
     "output_type": "execute_result"
    }
   ],
   "source": [
    "#fitting the trained dataset\n",
    "clf.fit(X_train,Y_train)"
   ]
  },
  {
   "cell_type": "code",
   "execution_count": 46,
   "metadata": {
    "scrolled": true
   },
   "outputs": [
    {
     "data": {
      "text/plain": [
       "array([[19.24902952],\n",
       "       [15.44961646],\n",
       "       [31.14433005],\n",
       "       [20.48494711],\n",
       "       [23.75397714],\n",
       "       [35.00319948],\n",
       "       [32.70097945],\n",
       "       [29.29302958],\n",
       "       [32.26294453],\n",
       "       [32.96428839],\n",
       "       [16.80264044],\n",
       "       [18.68687125],\n",
       "       [19.7725633 ],\n",
       "       [ 7.88239154],\n",
       "       [-0.14186251],\n",
       "       [19.24487464],\n",
       "       [19.49474419],\n",
       "       [32.27545285],\n",
       "       [22.83000638],\n",
       "       [13.81753042],\n",
       "       [25.38074258],\n",
       "       [32.96588248],\n",
       "       [43.36849585],\n",
       "       [36.67822818],\n",
       "       [20.40286459],\n",
       "       [39.04556567],\n",
       "       [20.65213387],\n",
       "       [22.5862574 ],\n",
       "       [24.08577447],\n",
       "       [37.60147007],\n",
       "       [32.12694209],\n",
       "       [25.44519454],\n",
       "       [15.69067507],\n",
       "       [25.84988934],\n",
       "       [16.99107283],\n",
       "       [11.10679273],\n",
       "       [24.42943677],\n",
       "       [18.94493883],\n",
       "       [15.93686745],\n",
       "       [24.55339548],\n",
       "       [23.27572385],\n",
       "       [20.64109867],\n",
       "       [25.72228836],\n",
       "       [20.04307977],\n",
       "       [19.01483971],\n",
       "       [11.99265659],\n",
       "       [14.67511112],\n",
       "       [15.74752175],\n",
       "       [24.83260209],\n",
       "       [36.01007234],\n",
       "       [13.14982571],\n",
       "       [29.0192026 ],\n",
       "       [30.48456041],\n",
       "       [20.17698731],\n",
       "       [39.75746013],\n",
       "       [15.1121674 ],\n",
       "       [15.01933536],\n",
       "       [13.04677323],\n",
       "       [20.32097311],\n",
       "       [24.66480237],\n",
       "       [18.12995194],\n",
       "       [31.95977445],\n",
       "       [21.86231721],\n",
       "       [ 4.1165428 ],\n",
       "       [16.76704846],\n",
       "       [25.64337763],\n",
       "       [14.4121205 ],\n",
       "       [12.83145366],\n",
       "       [22.68190476],\n",
       "       [29.21167934],\n",
       "       [25.09579329],\n",
       "       [14.53881691],\n",
       "       [28.30488543],\n",
       "       [19.48842668],\n",
       "       [20.65687252],\n",
       "       [32.26189595],\n",
       "       [18.36936922],\n",
       "       [ 5.571057  ],\n",
       "       [25.36957468],\n",
       "       [18.01495541],\n",
       "       [ 9.09335992],\n",
       "       [-6.38796034],\n",
       "       [25.68018757],\n",
       "       [21.08590454],\n",
       "       [27.28076474],\n",
       "       [21.04522527],\n",
       "       [19.79889829],\n",
       "       [21.87777178],\n",
       "       [17.29574928],\n",
       "       [24.59033823],\n",
       "       [24.8253448 ],\n",
       "       [27.10197595],\n",
       "       [33.36123208],\n",
       "       [27.67638212],\n",
       "       [37.69574564],\n",
       "       [13.24738395],\n",
       "       [26.97835911],\n",
       "       [22.74504144],\n",
       "       [20.80992658],\n",
       "       [28.31357342],\n",
       "       [25.1294426 ],\n",
       "       [20.63863377]])"
      ]
     },
     "execution_count": 46,
     "metadata": {},
     "output_type": "execute_result"
    }
   ],
   "source": [
    "#predicting on test dataset\n",
    "clf.predict(X_test)"
   ]
  },
  {
   "cell_type": "code",
   "execution_count": 47,
   "metadata": {},
   "outputs": [
    {
     "data": {
      "text/html": [
       "<div>\n",
       "<style scoped>\n",
       "    .dataframe tbody tr th:only-of-type {\n",
       "        vertical-align: middle;\n",
       "    }\n",
       "\n",
       "    .dataframe tbody tr th {\n",
       "        vertical-align: top;\n",
       "    }\n",
       "\n",
       "    .dataframe thead th {\n",
       "        text-align: right;\n",
       "    }\n",
       "</style>\n",
       "<table border=\"1\" class=\"dataframe\">\n",
       "  <thead>\n",
       "    <tr style=\"text-align: right;\">\n",
       "      <th></th>\n",
       "      <th>Target</th>\n",
       "    </tr>\n",
       "  </thead>\n",
       "  <tbody>\n",
       "    <tr>\n",
       "      <th>126</th>\n",
       "      <td>15.7</td>\n",
       "    </tr>\n",
       "    <tr>\n",
       "      <th>6</th>\n",
       "      <td>22.9</td>\n",
       "    </tr>\n",
       "    <tr>\n",
       "      <th>257</th>\n",
       "      <td>50.0</td>\n",
       "    </tr>\n",
       "    <tr>\n",
       "      <th>241</th>\n",
       "      <td>20.1</td>\n",
       "    </tr>\n",
       "    <tr>\n",
       "      <th>119</th>\n",
       "      <td>19.3</td>\n",
       "    </tr>\n",
       "  </tbody>\n",
       "</table>\n",
       "</div>"
      ],
      "text/plain": [
       "     Target\n",
       "126    15.7\n",
       "6      22.9\n",
       "257    50.0\n",
       "241    20.1\n",
       "119    19.3"
      ]
     },
     "execution_count": 47,
     "metadata": {},
     "output_type": "execute_result"
    }
   ],
   "source": [
    "Y_test.sample(5)"
   ]
  },
  {
   "cell_type": "code",
   "execution_count": 48,
   "metadata": {},
   "outputs": [
    {
     "data": {
      "text/plain": [
       "0.6436127317363878"
      ]
     },
     "execution_count": 48,
     "metadata": {},
     "output_type": "execute_result"
    }
   ],
   "source": [
    "# Scoring of testing dataset\n",
    "clf.score(X_test,Y_test)"
   ]
  },
  {
   "cell_type": "code",
   "execution_count": 49,
   "metadata": {},
   "outputs": [
    {
     "data": {
      "text/plain": [
       "0.7600567137580339"
      ]
     },
     "execution_count": 49,
     "metadata": {},
     "output_type": "execute_result"
    }
   ],
   "source": [
    "#scoring of training dataset\n",
    "clf.score(X_train,Y_train)"
   ]
  },
  {
   "cell_type": "markdown",
   "metadata": {},
   "source": [
    "## ANOVA, T-TEST STATISTICAL METHODS:"
   ]
  },
  {
   "cell_type": "code",
   "execution_count": 50,
   "metadata": {},
   "outputs": [
    {
     "data": {
      "text/plain": [
       "F_onewayResult(statistic=2908.922419504142, pvalue=1.2513178592578005e-299)"
      ]
     },
     "execution_count": 50,
     "metadata": {},
     "output_type": "execute_result"
    }
   ],
   "source": [
    "#anova test, t-test etc\n",
    "import scipy.stats as stats\n",
    "stats.f_oneway(df['CRIM'],df['TAX'])"
   ]
  },
  {
   "cell_type": "code",
   "execution_count": 51,
   "metadata": {},
   "outputs": [
    {
     "name": "stdout",
     "output_type": "stream",
     "text": [
      "               sum_sq     df           F        PR(>F)\n",
      "RAD        547.741411    1.0  163.211397  1.418269e-32\n",
      "Residual  1691.436234  504.0         NaN           NaN\n"
     ]
    }
   ],
   "source": [
    "import statsmodels.api as sm\n",
    "from statsmodels.formula.api import ols\n",
    "model=ols('DIS~RAD',data=df).fit()\n",
    "anova_result=sm.stats.anova_lm(model,typ=2)\n",
    "print(anova_result)"
   ]
  },
  {
   "cell_type": "markdown",
   "metadata": {},
   "source": [
    "## PART 3: FEATURE ENGINEERING PART I"
   ]
  },
  {
   "cell_type": "code",
   "execution_count": 52,
   "metadata": {},
   "outputs": [],
   "source": [
    "#creating copy of dataset\n",
    "df_copy=df.copy()"
   ]
  },
  {
   "cell_type": "code",
   "execution_count": 53,
   "metadata": {},
   "outputs": [],
   "source": [
    "#replacing 0 by NaN\n",
    "df_copy.ZN.replace(0,np.nan,inplace=True)\n",
    "df_copy.CHAS.replace(0,np.nan,inplace=True)"
   ]
  },
  {
   "cell_type": "code",
   "execution_count": 54,
   "metadata": {},
   "outputs": [
    {
     "data": {
      "text/plain": [
       "CRIM         0\n",
       "ZN         372\n",
       "INDUS        0\n",
       "CHAS       471\n",
       "NOX          0\n",
       "RM           0\n",
       "AGE          0\n",
       "DIS          0\n",
       "RAD          0\n",
       "TAX          0\n",
       "PTRATIO      0\n",
       "B            0\n",
       "LSTAT        0\n",
       "Target       0\n",
       "dtype: int64"
      ]
     },
     "execution_count": 54,
     "metadata": {},
     "output_type": "execute_result"
    }
   ],
   "source": [
    "df_copy.isnull().sum()"
   ]
  },
  {
   "cell_type": "code",
   "execution_count": 55,
   "metadata": {},
   "outputs": [
    {
     "data": {
      "text/plain": [
       "<AxesSubplot:>"
      ]
     },
     "execution_count": 55,
     "metadata": {},
     "output_type": "execute_result"
    },
    {
     "data": {
      "image/png": "[encoded data removed]",
      "text/plain": [
       "<Figure size 432x288 with 1 Axes>"
      ]
     },
     "metadata": {},
     "output_type": "display_data"
    }
   ],
   "source": [
    "#to check which values are missing\n",
    "sns.heatmap(df_copy.isnull(),yticklabels=False,cbar=False)"
   ]
  },
  {
   "cell_type": "code",
   "execution_count": 56,
   "metadata": {},
   "outputs": [
    {
     "name": "stdout",
     "output_type": "stream",
     "text": [
      "<class 'pandas.core.frame.DataFrame'>\n",
      "RangeIndex: 506 entries, 0 to 505\n",
      "Data columns (total 14 columns):\n",
      " #   Column   Non-Null Count  Dtype  \n",
      "---  ------   --------------  -----  \n",
      " 0   CRIM     506 non-null    float64\n",
      " 1   ZN       134 non-null    float64\n",
      " 2   INDUS    506 non-null    float64\n",
      " 3   CHAS     35 non-null     float64\n",
      " 4   NOX      506 non-null    float64\n",
      " 5   RM       506 non-null    float64\n",
      " 6   AGE      506 non-null    float64\n",
      " 7   DIS      506 non-null    float64\n",
      " 8   RAD      506 non-null    float64\n",
      " 9   TAX      506 non-null    float64\n",
      " 10  PTRATIO  506 non-null    float64\n",
      " 11  B        506 non-null    float64\n",
      " 12  LSTAT    506 non-null    float64\n",
      " 13  Target   506 non-null    float64\n",
      "dtypes: float64(14)\n",
      "memory usage: 55.5 KB\n"
     ]
    }
   ],
   "source": [
    "df_copy.info()"
   ]
  },
  {
   "cell_type": "code",
   "execution_count": 57,
   "metadata": {},
   "outputs": [],
   "source": [
    "#dropping columns of CHAS and ZN > 50% dataset filled with 0 values\n",
    "df_copy.drop(['CHAS','ZN'],axis=1,inplace=True)"
   ]
  },
  {
   "cell_type": "code",
   "execution_count": 58,
   "metadata": {},
   "outputs": [
    {
     "name": "stdout",
     "output_type": "stream",
     "text": [
      "(506, 12)\n"
     ]
    }
   ],
   "source": [
    "# new dataset\n",
    "print(df_copy.shape)"
   ]
  },
  {
   "cell_type": "code",
   "execution_count": 59,
   "metadata": {},
   "outputs": [],
   "source": [
    "# another new copy of dataset for target variable\n",
    "df_1=df_copy.copy()"
   ]
  },
  {
   "cell_type": "code",
   "execution_count": 60,
   "metadata": {},
   "outputs": [],
   "source": [
    "df_copy.drop(['Target'],axis=1,inplace=True)"
   ]
  },
  {
   "cell_type": "code",
   "execution_count": 61,
   "metadata": {},
   "outputs": [],
   "source": [
    "#training datasets after dropping CHAS, ZN\n",
    "df_y1=pd.DataFrame(df_1.Target)\n",
    "df_x1=pd.DataFrame(df_copy)"
   ]
  },
  {
   "cell_type": "code",
   "execution_count": 62,
   "metadata": {},
   "outputs": [
    {
     "data": {
      "text/plain": [
       "LinearRegression()"
      ]
     },
     "execution_count": 62,
     "metadata": {},
     "output_type": "execute_result"
    }
   ],
   "source": [
    "reg_2=linear_model.LinearRegression()\n",
    "reg_2.fit(df_x1,df_y1)"
   ]
  },
  {
   "cell_type": "code",
   "execution_count": 63,
   "metadata": {},
   "outputs": [],
   "source": [
    "##train,test again code basics after dropping CHAS and ZN\n",
    "X1_train,X1_test,Y1_train,Y1_test=train_test_split(df_x1,df_y1,test_size=0.3)"
   ]
  },
  {
   "cell_type": "code",
   "execution_count": 64,
   "metadata": {},
   "outputs": [
    {
     "data": {
      "text/plain": [
       "354"
      ]
     },
     "execution_count": 64,
     "metadata": {},
     "output_type": "execute_result"
    }
   ],
   "source": [
    "len(X1_train)"
   ]
  },
  {
   "cell_type": "markdown",
   "metadata": {},
   "source": [
    "## USING SKLEARN FOR Linear Regression analysis"
   ]
  },
  {
   "cell_type": "code",
   "execution_count": 65,
   "metadata": {},
   "outputs": [],
   "source": [
    "from sklearn.linear_model import LinearRegression\n",
    "clf1=LinearRegression()"
   ]
  },
  {
   "cell_type": "code",
   "execution_count": 66,
   "metadata": {},
   "outputs": [
    {
     "data": {
      "text/plain": [
       "LinearRegression()"
      ]
     },
     "execution_count": 66,
     "metadata": {},
     "output_type": "execute_result"
    }
   ],
   "source": [
    "#fitting the trained dataset\n",
    "clf1.fit(X1_train,Y1_train)"
   ]
  },
  {
   "cell_type": "code",
   "execution_count": 67,
   "metadata": {},
   "outputs": [],
   "source": [
    "test_score=clf1.score(X1_test,Y1_test)*100"
   ]
  },
  {
   "cell_type": "code",
   "execution_count": 68,
   "metadata": {},
   "outputs": [
    {
     "name": "stdout",
     "output_type": "stream",
     "text": [
      "Accuracy on test data: 66.5%\n"
     ]
    }
   ],
   "source": [
    "print(\"Accuracy on test data: {:,.1f}%\".format(test_score))"
   ]
  },
  {
   "cell_type": "code",
   "execution_count": 69,
   "metadata": {},
   "outputs": [],
   "source": [
    "train_score=clf1.score(X1_train,Y1_train)*100"
   ]
  },
  {
   "cell_type": "code",
   "execution_count": 70,
   "metadata": {},
   "outputs": [
    {
     "name": "stdout",
     "output_type": "stream",
     "text": [
      "Accuracy on train data: 74.497%\n"
     ]
    }
   ],
   "source": [
    "print(\"Accuracy on train data: {:,.3f}%\".format(train_score))"
   ]
  },
  {
   "cell_type": "markdown",
   "metadata": {},
   "source": [
    "### CHECKING FOR OUTLIERS USING PERCENTILE METHOD: CRIME COLUMN"
   ]
  },
  {
   "cell_type": "code",
   "execution_count": 71,
   "metadata": {},
   "outputs": [
    {
     "data": {
      "text/plain": [
       "15.78915"
      ]
     },
     "execution_count": 71,
     "metadata": {},
     "output_type": "execute_result"
    }
   ],
   "source": [
    "#using quantile to reduce outliers, this is for max\n",
    "max_threshold=df_copy['CRIM'].quantile(0.95)\n",
    "max_threshold"
   ]
  },
  {
   "cell_type": "code",
   "execution_count": 72,
   "metadata": {},
   "outputs": [
    {
     "data": {
      "text/html": [
       "<div>\n",
       "<style scoped>\n",
       "    .dataframe tbody tr th:only-of-type {\n",
       "        vertical-align: middle;\n",
       "    }\n",
       "\n",
       "    .dataframe tbody tr th {\n",
       "        vertical-align: top;\n",
       "    }\n",
       "\n",
       "    .dataframe thead th {\n",
       "        text-align: right;\n",
       "    }\n",
       "</style>\n",
       "<table border=\"1\" class=\"dataframe\">\n",
       "  <thead>\n",
       "    <tr style=\"text-align: right;\">\n",
       "      <th></th>\n",
       "      <th>CRIM</th>\n",
       "      <th>INDUS</th>\n",
       "      <th>NOX</th>\n",
       "      <th>RM</th>\n",
       "      <th>AGE</th>\n",
       "      <th>DIS</th>\n",
       "      <th>RAD</th>\n",
       "      <th>TAX</th>\n",
       "      <th>PTRATIO</th>\n",
       "      <th>B</th>\n",
       "      <th>LSTAT</th>\n",
       "    </tr>\n",
       "  </thead>\n",
       "  <tbody>\n",
       "    <tr>\n",
       "      <th>417</th>\n",
       "      <td>25.9406</td>\n",
       "      <td>18.1</td>\n",
       "      <td>0.679</td>\n",
       "      <td>5.304</td>\n",
       "      <td>89.1</td>\n",
       "      <td>1.6475</td>\n",
       "      <td>24.0</td>\n",
       "      <td>666.0</td>\n",
       "      <td>20.2</td>\n",
       "      <td>127.36</td>\n",
       "      <td>26.64</td>\n",
       "    </tr>\n",
       "    <tr>\n",
       "      <th>410</th>\n",
       "      <td>51.1358</td>\n",
       "      <td>18.1</td>\n",
       "      <td>0.597</td>\n",
       "      <td>5.757</td>\n",
       "      <td>100.0</td>\n",
       "      <td>1.4130</td>\n",
       "      <td>24.0</td>\n",
       "      <td>666.0</td>\n",
       "      <td>20.2</td>\n",
       "      <td>2.60</td>\n",
       "      <td>10.11</td>\n",
       "    </tr>\n",
       "    <tr>\n",
       "      <th>387</th>\n",
       "      <td>22.5971</td>\n",
       "      <td>18.1</td>\n",
       "      <td>0.700</td>\n",
       "      <td>5.000</td>\n",
       "      <td>89.5</td>\n",
       "      <td>1.5184</td>\n",
       "      <td>24.0</td>\n",
       "      <td>666.0</td>\n",
       "      <td>20.2</td>\n",
       "      <td>396.90</td>\n",
       "      <td>31.99</td>\n",
       "    </tr>\n",
       "    <tr>\n",
       "      <th>380</th>\n",
       "      <td>88.9762</td>\n",
       "      <td>18.1</td>\n",
       "      <td>0.671</td>\n",
       "      <td>6.968</td>\n",
       "      <td>91.9</td>\n",
       "      <td>1.4165</td>\n",
       "      <td>24.0</td>\n",
       "      <td>666.0</td>\n",
       "      <td>20.2</td>\n",
       "      <td>396.90</td>\n",
       "      <td>17.21</td>\n",
       "    </tr>\n",
       "  </tbody>\n",
       "</table>\n",
       "</div>"
      ],
      "text/plain": [
       "        CRIM  INDUS    NOX     RM    AGE     DIS   RAD    TAX  PTRATIO  \\\n",
       "417  25.9406   18.1  0.679  5.304   89.1  1.6475  24.0  666.0     20.2   \n",
       "410  51.1358   18.1  0.597  5.757  100.0  1.4130  24.0  666.0     20.2   \n",
       "387  22.5971   18.1  0.700  5.000   89.5  1.5184  24.0  666.0     20.2   \n",
       "380  88.9762   18.1  0.671  6.968   91.9  1.4165  24.0  666.0     20.2   \n",
       "\n",
       "          B  LSTAT  \n",
       "417  127.36  26.64  \n",
       "410    2.60  10.11  \n",
       "387  396.90  31.99  \n",
       "380  396.90  17.21  "
      ]
     },
     "execution_count": 72,
     "metadata": {},
     "output_type": "execute_result"
    }
   ],
   "source": [
    "df_copy[df_copy['CRIM']>max_threshold].sample(4)"
   ]
  },
  {
   "cell_type": "code",
   "execution_count": 73,
   "metadata": {},
   "outputs": [
    {
     "data": {
      "text/plain": [
       "0.027909999999999997"
      ]
     },
     "execution_count": 73,
     "metadata": {},
     "output_type": "execute_result"
    }
   ],
   "source": [
    "#minimum threshold\n",
    "min_threshold=df_copy['CRIM'].quantile(0.05)\n",
    "min_threshold"
   ]
  },
  {
   "cell_type": "code",
   "execution_count": 74,
   "metadata": {},
   "outputs": [],
   "source": [
    "#new dataset having all crime values removed >95% and lower than 5%\n",
    "df2=df_copy[(df_copy['CRIM']>min_threshold) & (df_copy['CRIM']<max_threshold)]"
   ]
  },
  {
   "cell_type": "code",
   "execution_count": 75,
   "metadata": {},
   "outputs": [],
   "source": [
    "#q1=df_copy.AGE.quantile(0.25)\n",
    "#q3=df_copy.AGE.quantile(0.75)\n",
    "#q1,q3"
   ]
  },
  {
   "cell_type": "code",
   "execution_count": 76,
   "metadata": {},
   "outputs": [],
   "source": [
    "#iqr=q3-q1\n",
    "#iqr"
   ]
  },
  {
   "cell_type": "code",
   "execution_count": 77,
   "metadata": {},
   "outputs": [],
   "source": [
    "#lower_limit=q1-(1.5*iqr)\n",
    "#upper_limit=q3+(1.5*iqr)\n",
    "#lower_limit, upper_limit"
   ]
  },
  {
   "cell_type": "markdown",
   "metadata": {},
   "source": [
    "## PART 3: MULTIPLE REGRESSION AFTER REMOVING OUTLIERS (IQR TECHNIQUE)\n",
    "\n",
    "### STEP 1>FEATURE ENGINEERING: REMOVING OUTLIERS FROM ALL VARIABLES\n",
    "### STEP 2> MULTIPLE REGRESSION"
   ]
  },
  {
   "cell_type": "code",
   "execution_count": 78,
   "metadata": {},
   "outputs": [],
   "source": [
    "#function to show boxplots \n",
    "def plot_boxplot(df, ft):\n",
    "    df.boxplot(column=[ft])\n",
    "    plt.grid(False)\n",
    "    plt.show"
   ]
  },
  {
   "cell_type": "code",
   "execution_count": 79,
   "metadata": {},
   "outputs": [],
   "source": [
    "#creating copy of dataset\n",
    "df_copy1=df.copy()"
   ]
  },
  {
   "cell_type": "code",
   "execution_count": 80,
   "metadata": {},
   "outputs": [],
   "source": [
    "#replacing 0 by NaN\n",
    "df_copy1.ZN.replace(0,np.nan,inplace=True)\n",
    "df_copy1.CHAS.replace(0,np.nan,inplace=True)"
   ]
  },
  {
   "cell_type": "code",
   "execution_count": 81,
   "metadata": {},
   "outputs": [],
   "source": [
    "df_copy1.drop(['CHAS','ZN'],axis=1,inplace=True)"
   ]
  },
  {
   "cell_type": "code",
   "execution_count": 82,
   "metadata": {},
   "outputs": [
    {
     "data": {
      "text/plain": [
       "(506, 12)"
      ]
     },
     "execution_count": 82,
     "metadata": {},
     "output_type": "execute_result"
    }
   ],
   "source": [
    "df_copy1.shape"
   ]
  },
  {
   "cell_type": "code",
   "execution_count": 83,
   "metadata": {},
   "outputs": [],
   "source": [
    "#function to detect outliers from all columns\n",
    "def outliers(df,ft):\n",
    "    q1=df[ft].quantile(0.25)\n",
    "    q3=df[ft].quantile(0.75)\n",
    "    iqr=q3-q1\n",
    "    lower_bound=q1- 1.5*iqr\n",
    "    upper_bound=q3+ 1.5*iqr\n",
    "    ls=df.index[(df[ft]<lower_bound) | (df[ft]>upper_bound)]\n",
    "    return ls"
   ]
  },
  {
   "cell_type": "code",
   "execution_count": 84,
   "metadata": {},
   "outputs": [],
   "source": [
    "#creating an empty list to store output indices from multiple columns\n",
    "index_list=[]\n",
    "for feature in['CRIM','INDUS','NOX','RM','AGE','DIS','RAD','TAX','PTRATIO','B','LSTAT']:\n",
    "    index_list.extend(outliers(df_copy1,feature))"
   ]
  },
  {
   "cell_type": "code",
   "execution_count": 85,
   "metadata": {},
   "outputs": [],
   "source": [
    "#function to drop all rows which have outliers \n",
    "def remove(df,ls):\n",
    "    ls=sorted(set(ls))\n",
    "    df=df.drop(ls)\n",
    "    return df"
   ]
  },
  {
   "cell_type": "code",
   "execution_count": 86,
   "metadata": {},
   "outputs": [],
   "source": [
    "df_cleaned=remove(df_copy1,index_list)"
   ]
  },
  {
   "cell_type": "code",
   "execution_count": 87,
   "metadata": {},
   "outputs": [
    {
     "data": {
      "text/plain": [
       "(353, 12)"
      ]
     },
     "execution_count": 87,
     "metadata": {},
     "output_type": "execute_result"
    }
   ],
   "source": [
    "df_cleaned.shape"
   ]
  },
  {
   "cell_type": "code",
   "execution_count": 88,
   "metadata": {},
   "outputs": [
    {
     "data": {
      "image/png": "[encoded data removed]",
      "text/plain": [
       "<Figure size 432x288 with 1 Axes>"
      ]
     },
     "metadata": {},
     "output_type": "display_data"
    }
   ],
   "source": [
    "#considerable reduction in outliers \n",
    "plot_boxplot(df_cleaned,'CRIM')"
   ]
  },
  {
   "cell_type": "code",
   "execution_count": 89,
   "metadata": {},
   "outputs": [],
   "source": [
    "#distribution\n",
    "def plot_compare(df,var):\n",
    "    fig=plt.figure()\n",
    "    ax=fig.add_subplot(111)\n",
    "    sns.kdeplot(df[var],color='r',shade=True)\n",
    "    lines,labels=ax.get_legend_handles_labels()\n",
    "    ax.legend(lines,labels,loc='upper left')\n",
    "    plt.grid(False)\n",
    "    plt.show()"
   ]
  },
  {
   "cell_type": "code",
   "execution_count": 90,
   "metadata": {},
   "outputs": [
    {
     "data": {
      "image/png": "[encoded data removed]",
      "text/plain": [
       "<Figure size 432x288 with 1 Axes>"
      ]
     },
     "metadata": {},
     "output_type": "display_data"
    }
   ],
   "source": [
    "#outliers have been reduced by much\n",
    "plot_compare(df_cleaned,'CRIM')"
   ]
  },
  {
   "cell_type": "code",
   "execution_count": 91,
   "metadata": {},
   "outputs": [],
   "source": [
    "# new dataset for target variable\n",
    "df_cleaned_1=df_cleaned.copy()"
   ]
  },
  {
   "cell_type": "code",
   "execution_count": 92,
   "metadata": {},
   "outputs": [],
   "source": [
    "df_cleaned.drop(['Target'],axis=1,inplace=True)"
   ]
  },
  {
   "cell_type": "code",
   "execution_count": 93,
   "metadata": {},
   "outputs": [],
   "source": [
    "#training after dropping CHAS, ZN\n",
    "df_y2=pd.DataFrame(df_cleaned_1.Target)\n",
    "df_x2=pd.DataFrame(df_cleaned)"
   ]
  },
  {
   "cell_type": "code",
   "execution_count": 94,
   "metadata": {},
   "outputs": [],
   "source": [
    "##train,test again code basics after dropping CHAS and ZN\n",
    "X2_train,X2_test,Y2_train,Y2_test=train_test_split(df_x2,df_y2,test_size=0.33,random_state=1)"
   ]
  },
  {
   "cell_type": "code",
   "execution_count": 95,
   "metadata": {},
   "outputs": [],
   "source": [
    "from sklearn.linear_model import LinearRegression\n",
    "clf2=LinearRegression()"
   ]
  },
  {
   "cell_type": "code",
   "execution_count": 96,
   "metadata": {},
   "outputs": [
    {
     "data": {
      "text/plain": [
       "LinearRegression()"
      ]
     },
     "execution_count": 96,
     "metadata": {},
     "output_type": "execute_result"
    }
   ],
   "source": [
    "#fitting the trained dataset\n",
    "clf2.fit(X2_test,Y2_test)"
   ]
  },
  {
   "cell_type": "code",
   "execution_count": 97,
   "metadata": {},
   "outputs": [
    {
     "data": {
      "text/plain": [
       "0.7401233091812496"
      ]
     },
     "execution_count": 97,
     "metadata": {},
     "output_type": "execute_result"
    }
   ],
   "source": [
    "# test dataset score\n",
    "clf2.score(X2_test,Y2_test)"
   ]
  },
  {
   "cell_type": "code",
   "execution_count": 98,
   "metadata": {},
   "outputs": [
    {
     "data": {
      "text/plain": [
       "LinearRegression()"
      ]
     },
     "execution_count": 98,
     "metadata": {},
     "output_type": "execute_result"
    }
   ],
   "source": [
    "clf2.fit(X2_train,Y2_train)"
   ]
  },
  {
   "cell_type": "code",
   "execution_count": 99,
   "metadata": {},
   "outputs": [
    {
     "data": {
      "text/plain": [
       "0.618555976880955"
      ]
     },
     "execution_count": 99,
     "metadata": {},
     "output_type": "execute_result"
    }
   ],
   "source": [
    "#train dataset score\n",
    "clf2.score(X2_train,Y2_train)"
   ]
  },
  {
   "cell_type": "code",
   "execution_count": 100,
   "metadata": {},
   "outputs": [
    {
     "data": {
      "text/plain": [
       "['CRIM',\n",
       " 'INDUS',\n",
       " 'NOX',\n",
       " 'RM',\n",
       " 'AGE',\n",
       " 'DIS',\n",
       " 'RAD',\n",
       " 'TAX',\n",
       " 'PTRATIO',\n",
       " 'B',\n",
       " 'LSTAT']"
      ]
     },
     "execution_count": 100,
     "metadata": {},
     "output_type": "execute_result"
    }
   ],
   "source": [
    "['CRIM','INDUS','NOX','RM','AGE','DIS','RAD','TAX','PTRATIO','B','LSTAT']"
   ]
  },
  {
   "cell_type": "code",
   "execution_count": 101,
   "metadata": {},
   "outputs": [],
   "source": [
    "cols1 = df_copy1[['CRIM','INDUS','NOX']].columns.tolist()\n",
    "cols2 = df_copy1[['RM','AGE','DIS']].columns.tolist()\n",
    "cols3 = df_copy1[['RAD','TAX','PTRATIO']].columns.tolist()\n",
    "cols4 = df_copy1[['B','LSTAT']]"
   ]
  },
  {
   "cell_type": "code",
   "execution_count": 102,
   "metadata": {},
   "outputs": [],
   "source": [
    "#plotting for both histogram and boxplot\n",
    "def plotvariable1(df,variable):\n",
    "    plt.figure(figsize=(16,4))\n",
    "    plt.subplot(1,2,1)\n",
    "    plt.hist(df[variable],alpha=0.5)\n",
    "    plt.title('Dist. of CRIME')\n",
    "    \n",
    "    #boxplot\n",
    "    plt.subplot(1,2,2)\n",
    "    sns.boxplot(df[variable])\n",
    "    plt.show()"
   ]
  },
  {
   "cell_type": "code",
   "execution_count": 103,
   "metadata": {},
   "outputs": [
    {
     "data": {
      "image/png": "[encoded data removed]",
      "text/plain": [
       "<Figure size 1152x288 with 2 Axes>"
      ]
     },
     "metadata": {},
     "output_type": "display_data"
    }
   ],
   "source": [
    "import warnings\n",
    "warnings.filterwarnings('ignore')\n",
    "plotvariable1(df_cleaned,'CRIM')"
   ]
  },
  {
   "cell_type": "code",
   "execution_count": 104,
   "metadata": {},
   "outputs": [],
   "source": [
    "#function to detect outliers from all columns\n",
    "def outliers1(df,ft):\n",
    "    q1=df[ft].quantile(0.25)\n",
    "    q3=df[ft].quantile(0.75)\n",
    "    iqr=q3-q1\n",
    "    lower_bound=q1- 1.5*iqr\n",
    "    upper_bound=q3+ 1.5*iqr\n",
    "    return lower_bound,upper_bound"
   ]
  },
  {
   "cell_type": "code",
   "execution_count": 105,
   "metadata": {},
   "outputs": [
    {
     "name": "stdout",
     "output_type": "stream",
     "text": [
      "upper limit: 9.06963875\n",
      "lower limit: -5.31051125\n"
     ]
    }
   ],
   "source": [
    "lower_crime,upper_crime=outliers1(df_copy,'CRIM')\n",
    "print(\"upper limit:\",upper_crime)\n",
    "print(\"lower limit:\",lower_crime)"
   ]
  },
  {
   "cell_type": "code",
   "execution_count": null,
   "metadata": {},
   "outputs": [],
   "source": []
  },
  {
   "cell_type": "code",
   "execution_count": null,
   "metadata": {},
   "outputs": [],
   "source": []
  }
 ],
 "metadata": {
  "kernelspec": {
   "display_name": "Python 3",
   "language": "python",
   "name": "python3"
  },
  "language_info": {
   "codemirror_mode": {
    "name": "ipython",
    "version": 3
   },
   "file_extension": ".py",
   "mimetype": "text/x-python",
   "name": "python",
   "nbconvert_exporter": "python",
   "pygments_lexer": "ipython3",
   "version": "3.8.5"
  }
 },
 "nbformat": 4,
 "nbformat_minor": 4
}
