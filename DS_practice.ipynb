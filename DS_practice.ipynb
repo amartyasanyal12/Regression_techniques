{
 "cells": [
  {
   "cell_type": "code",
   "execution_count": 1,
   "metadata": {},
   "outputs": [],
   "source": [
    "import pandas as pd\n",
    "import numpy as np\n",
    "import seaborn as sns\n",
    "%matplotlib inline\n",
    "import matplotlib.pyplot as plt\n"
   ]
  },
  {
   "cell_type": "code",
   "execution_count": 2,
   "metadata": {},
   "outputs": [],
   "source": [
    "pd.pandas.set_option('display.max_columns',None)"
   ]
  },
  {
   "cell_type": "code",
   "execution_count": 3,
   "metadata": {},
   "outputs": [],
   "source": [
    "#importing the dataset\n",
    "df=pd.read_csv('USA_Housing.csv')"
   ]
  },
  {
   "cell_type": "code",
   "execution_count": 4,
   "metadata": {},
   "outputs": [
    {
     "data": {
      "text/html": [
       "<div>\n",
       "<style scoped>\n",
       "    .dataframe tbody tr th:only-of-type {\n",
       "        vertical-align: middle;\n",
       "    }\n",
       "\n",
       "    .dataframe tbody tr th {\n",
       "        vertical-align: top;\n",
       "    }\n",
       "\n",
       "    .dataframe thead th {\n",
       "        text-align: right;\n",
       "    }\n",
       "</style>\n",
       "<table border=\"1\" class=\"dataframe\">\n",
       "  <thead>\n",
       "    <tr style=\"text-align: right;\">\n",
       "      <th></th>\n",
       "      <th>Avg. Area Income</th>\n",
       "      <th>Avg. Area House Age</th>\n",
       "      <th>Avg. Area Number of Rooms</th>\n",
       "      <th>Avg. Area Number of Bedrooms</th>\n",
       "      <th>Area Population</th>\n",
       "      <th>Price</th>\n",
       "      <th>Address</th>\n",
       "    </tr>\n",
       "  </thead>\n",
       "  <tbody>\n",
       "    <tr>\n",
       "      <th>3927</th>\n",
       "      <td>68742.987316</td>\n",
       "      <td>6.068788</td>\n",
       "      <td>7.316551</td>\n",
       "      <td>4.44</td>\n",
       "      <td>34008.881879</td>\n",
       "      <td>1.218566e+06</td>\n",
       "      <td>PSC 7604, Box 4292\\nAPO AP 69437-0477</td>\n",
       "    </tr>\n",
       "    <tr>\n",
       "      <th>4449</th>\n",
       "      <td>39777.606906</td>\n",
       "      <td>5.804627</td>\n",
       "      <td>7.147719</td>\n",
       "      <td>3.16</td>\n",
       "      <td>38725.424303</td>\n",
       "      <td>6.960145e+05</td>\n",
       "      <td>5231 David Shoals\\nEast Chaseland, MO 54930-5094</td>\n",
       "    </tr>\n",
       "    <tr>\n",
       "      <th>4724</th>\n",
       "      <td>60698.815488</td>\n",
       "      <td>7.951046</td>\n",
       "      <td>6.225802</td>\n",
       "      <td>2.50</td>\n",
       "      <td>48495.319734</td>\n",
       "      <td>1.433494e+06</td>\n",
       "      <td>95025 Martin Cliff Apt. 700\\nNathanfort, NH 34130</td>\n",
       "    </tr>\n",
       "    <tr>\n",
       "      <th>3454</th>\n",
       "      <td>72029.312855</td>\n",
       "      <td>7.072146</td>\n",
       "      <td>5.378450</td>\n",
       "      <td>3.41</td>\n",
       "      <td>42143.262812</td>\n",
       "      <td>1.205879e+06</td>\n",
       "      <td>56156 Leonard Skyway Apt. 157\\nNorth Jamie, LA...</td>\n",
       "    </tr>\n",
       "    <tr>\n",
       "      <th>2665</th>\n",
       "      <td>77417.222837</td>\n",
       "      <td>5.663860</td>\n",
       "      <td>7.580907</td>\n",
       "      <td>6.29</td>\n",
       "      <td>26527.297949</td>\n",
       "      <td>1.145351e+06</td>\n",
       "      <td>286 Michael Knoll\\nPort Michael, OH 62328-6328</td>\n",
       "    </tr>\n",
       "  </tbody>\n",
       "</table>\n",
       "</div>"
      ],
      "text/plain": [
       "      Avg. Area Income  Avg. Area House Age  Avg. Area Number of Rooms  \\\n",
       "3927      68742.987316             6.068788                   7.316551   \n",
       "4449      39777.606906             5.804627                   7.147719   \n",
       "4724      60698.815488             7.951046                   6.225802   \n",
       "3454      72029.312855             7.072146                   5.378450   \n",
       "2665      77417.222837             5.663860                   7.580907   \n",
       "\n",
       "      Avg. Area Number of Bedrooms  Area Population         Price  \\\n",
       "3927                          4.44     34008.881879  1.218566e+06   \n",
       "4449                          3.16     38725.424303  6.960145e+05   \n",
       "4724                          2.50     48495.319734  1.433494e+06   \n",
       "3454                          3.41     42143.262812  1.205879e+06   \n",
       "2665                          6.29     26527.297949  1.145351e+06   \n",
       "\n",
       "                                                Address  \n",
       "3927              PSC 7604, Box 4292\\nAPO AP 69437-0477  \n",
       "4449   5231 David Shoals\\nEast Chaseland, MO 54930-5094  \n",
       "4724  95025 Martin Cliff Apt. 700\\nNathanfort, NH 34130  \n",
       "3454  56156 Leonard Skyway Apt. 157\\nNorth Jamie, LA...  \n",
       "2665     286 Michael Knoll\\nPort Michael, OH 62328-6328  "
      ]
     },
     "execution_count": 4,
     "metadata": {},
     "output_type": "execute_result"
    }
   ],
   "source": [
    "df.sample(5)"
   ]
  },
  {
   "cell_type": "code",
   "execution_count": 5,
   "metadata": {},
   "outputs": [
    {
     "name": "stdout",
     "output_type": "stream",
     "text": [
      "(5000, 7)\n"
     ]
    }
   ],
   "source": [
    "print(df.shape)"
   ]
  },
  {
   "cell_type": "code",
   "execution_count": 6,
   "metadata": {},
   "outputs": [
    {
     "data": {
      "text/plain": [
       "Avg. Area Income                0\n",
       "Avg. Area House Age             0\n",
       "Avg. Area Number of Rooms       0\n",
       "Avg. Area Number of Bedrooms    0\n",
       "Area Population                 0\n",
       "Price                           0\n",
       "Address                         0\n",
       "dtype: int64"
      ]
     },
     "execution_count": 6,
     "metadata": {},
     "output_type": "execute_result"
    }
   ],
   "source": [
    "#null values\n",
    "df.isnull().sum()"
   ]
  },
  {
   "cell_type": "code",
   "execution_count": 7,
   "metadata": {},
   "outputs": [
    {
     "data": {
      "image/png": "[encoded data removed]",
      "text/plain": [
       "<Figure size 432x288 with 1 Axes>"
      ]
     },
     "metadata": {
      "needs_background": "light"
     },
     "output_type": "display_data"
    },
    {
     "data": {
      "image/png": "[encoded data removed]",
      "text/plain": [
       "<Figure size 432x288 with 1 Axes>"
      ]
     },
     "metadata": {
      "needs_background": "light"
     },
     "output_type": "display_data"
    },
    {
     "data": {
      "image/png": "[encoded data removed]",
      "text/plain": [
       "<Figure size 432x288 with 1 Axes>"
      ]
     },
     "metadata": {
      "needs_background": "light"
     },
     "output_type": "display_data"
    },
    {
     "data": {
      "image/png": "[encoded data removed]",
      "text/plain": [
       "<Figure size 432x288 with 1 Axes>"
      ]
     },
     "metadata": {
      "needs_background": "light"
     },
     "output_type": "display_data"
    },
    {
     "data": {
      "image/png": "[encoded data removed]",
      "text/plain": [
       "<Figure size 432x288 with 1 Axes>"
      ]
     },
     "metadata": {
      "needs_background": "light"
     },
     "output_type": "display_data"
    },
    {
     "data": {
      "image/png": "[encoded data removed]",
      "text/plain": [
       "<Figure size 432x288 with 1 Axes>"
      ]
     },
     "metadata": {
      "needs_background": "light"
     },
     "output_type": "display_data"
    },
    {
     "data": {
      "text/plain": [
       "<Figure size 432x288 with 0 Axes>"
      ]
     },
     "metadata": {},
     "output_type": "display_data"
    }
   ],
   "source": [
    "for feature in df:\n",
    "    if feature != 'Address':\n",
    "        plt.scatter(df[feature],df['Price'],color='green',marker='o',cmap='viridis')\n",
    "        plt.title(feature)\n",
    "        fig = plt.figure()\n",
    "        "
   ]
  },
  {
   "cell_type": "code",
   "execution_count": 8,
   "metadata": {},
   "outputs": [],
   "source": [
    "continuous_feature=[feature for feature in df if feature not in ['Price']+['Address']]"
   ]
  },
  {
   "cell_type": "code",
   "execution_count": 9,
   "metadata": {},
   "outputs": [
    {
     "name": "stdout",
     "output_type": "stream",
     "text": [
      "Count of continuous feature 5\n"
     ]
    }
   ],
   "source": [
    "print(\"Count of continuous feature {}\".format(len(continuous_feature)))"
   ]
  },
  {
   "cell_type": "code",
   "execution_count": 10,
   "metadata": {},
   "outputs": [
    {
     "data": {
      "image/png": "[encoded data removed]",
      "text/plain": [
       "<Figure size 432x288 with 1 Axes>"
      ]
     },
     "metadata": {
      "needs_background": "light"
     },
     "output_type": "display_data"
    },
    {
     "data": {
      "image/png": "[encoded data removed]",
      "text/plain": [
       "<Figure size 432x288 with 1 Axes>"
      ]
     },
     "metadata": {
      "needs_background": "light"
     },
     "output_type": "display_data"
    },
    {
     "data": {
      "image/png": "[encoded data removed]",
      "text/plain": [
       "<Figure size 432x288 with 1 Axes>"
      ]
     },
     "metadata": {
      "needs_background": "light"
     },
     "output_type": "display_data"
    },
    {
     "data": {
      "image/png": "[encoded data removed]",
      "text/plain": [
       "<Figure size 432x288 with 1 Axes>"
      ]
     },
     "metadata": {
      "needs_background": "light"
     },
     "output_type": "display_data"
    },
    {
     "data": {
      "image/png": "[encoded data removed]",
      "text/plain": [
       "<Figure size 432x288 with 1 Axes>"
      ]
     },
     "metadata": {
      "needs_background": "light"
     },
     "output_type": "display_data"
    }
   ],
   "source": [
    "for feature in continuous_feature:\n",
    "    data=df.copy()\n",
    "    data[feature].hist(bins=25)\n",
    "    plt.xlabel(feature)\n",
    "    plt.ylabel('Count')\n",
    "    plt.title(feature)\n",
    "    plt.show()"
   ]
  },
  {
   "cell_type": "code",
   "execution_count": 11,
   "metadata": {},
   "outputs": [
    {
     "data": {
      "text/plain": [
       "<matplotlib.collections.PathCollection at 0x1dc3dfa17c0>"
      ]
     },
     "execution_count": 11,
     "metadata": {},
     "output_type": "execute_result"
    },
    {
     "data": {
      "image/png": "[encoded data removed]",
      "text/plain": [
       "<Figure size 432x288 with 1 Axes>"
      ]
     },
     "metadata": {
      "needs_background": "light"
     },
     "output_type": "display_data"
    }
   ],
   "source": [
    "data=df.copy()\n",
    "data['Avg. Area Number of Rooms']=np.log(data['Avg. Area Number of Rooms'])\n",
    "data['Price']=np.log(data['Price'])\n",
    "plt.scatter(data['Avg. Area Number of Rooms'],data['Price'])"
   ]
  },
  {
   "cell_type": "code",
   "execution_count": 12,
   "metadata": {},
   "outputs": [
    {
     "data": {
      "image/png": "[encoded data removed]",
      "text/plain": [
       "<Figure size 432x288 with 1 Axes>"
      ]
     },
     "metadata": {
      "needs_background": "light"
     },
     "output_type": "display_data"
    },
    {
     "data": {
      "image/png": "[encoded data removed]",
      "text/plain": [
       "<Figure size 432x288 with 1 Axes>"
      ]
     },
     "metadata": {
      "needs_background": "light"
     },
     "output_type": "display_data"
    },
    {
     "data": {
      "image/png": "[encoded data removed]",
      "text/plain": [
       "<Figure size 432x288 with 1 Axes>"
      ]
     },
     "metadata": {
      "needs_background": "light"
     },
     "output_type": "display_data"
    },
    {
     "data": {
      "image/png": "[encoded data removed]",
      "text/plain": [
       "<Figure size 432x288 with 1 Axes>"
      ]
     },
     "metadata": {
      "needs_background": "light"
     },
     "output_type": "display_data"
    },
    {
     "data": {
      "image/png": "[encoded data removed]",
      "text/plain": [
       "<Figure size 432x288 with 1 Axes>"
      ]
     },
     "metadata": {
      "needs_background": "light"
     },
     "output_type": "display_data"
    }
   ],
   "source": [
    "##FEATURE ENGINEERING\n",
    "##check for outliers\n",
    "for feature in continuous_feature:\n",
    "    data=df.copy()\n",
    "    data[feature].plot(kind='box')\n",
    "    plt.ylabel('Count')\n",
    "    plt.title(feature)\n",
    "    plt.show()"
   ]
  },
  {
   "cell_type": "code",
   "execution_count": 13,
   "metadata": {},
   "outputs": [],
   "source": [
    "def outliers(df,ft):\n",
    "    Q1=df[ft].quantile(0.25)\n",
    "    Q3=df[ft].quantile(0.75)\n",
    "    IQR=Q3-Q1\n",
    "    \n",
    "    lower_boundary=Q1- IQR*1.5\n",
    "    upper_boundary=Q1+IQR*1.5\n",
    "    \n",
    "    ls=df.index[(df[ft]<lower_boundary) | (df[ft]>upper_boundary)]\n",
    "    \n",
    "    return ls"
   ]
  },
  {
   "cell_type": "code",
   "execution_count": 14,
   "metadata": {},
   "outputs": [],
   "source": [
    "index_list=[]\n",
    "for feature in ['Area Population','Avg. Area Income','Avg. Area House Age','Avg. Area Number of Rooms']:\n",
    "    index_list.extend(outliers(df,feature))"
   ]
  },
  {
   "cell_type": "code",
   "execution_count": 15,
   "metadata": {},
   "outputs": [],
   "source": [
    "def remove(df,ls):\n",
    "    ls=sorted(set(ls))\n",
    "    df=df.drop(ls)\n",
    "    return df"
   ]
  },
  {
   "cell_type": "code",
   "execution_count": 16,
   "metadata": {},
   "outputs": [],
   "source": [
    "df_cleaned=remove(df,index_list)"
   ]
  },
  {
   "cell_type": "code",
   "execution_count": 17,
   "metadata": {},
   "outputs": [
    {
     "data": {
      "text/plain": [
       "<AxesSubplot:>"
      ]
     },
     "execution_count": 17,
     "metadata": {},
     "output_type": "execute_result"
    },
    {
     "data": {
      "image/png": "[encoded data removed]",
      "text/plain": [
       "<Figure size 432x288 with 1 Axes>"
      ]
     },
     "metadata": {
      "needs_background": "light"
     },
     "output_type": "display_data"
    }
   ],
   "source": [
    "df_cleaned['Avg. Area Number of Rooms'].plot(kind='box')"
   ]
  },
  {
   "cell_type": "code",
   "execution_count": 18,
   "metadata": {},
   "outputs": [],
   "source": [
    "#feature scaling\n",
    "df_cleaned.drop(['Avg. Area Number of Bedrooms','Address'],axis=1,inplace=True)"
   ]
  },
  {
   "cell_type": "code",
   "execution_count": 19,
   "metadata": {},
   "outputs": [
    {
     "data": {
      "text/html": [
       "<div>\n",
       "<style scoped>\n",
       "    .dataframe tbody tr th:only-of-type {\n",
       "        vertical-align: middle;\n",
       "    }\n",
       "\n",
       "    .dataframe tbody tr th {\n",
       "        vertical-align: top;\n",
       "    }\n",
       "\n",
       "    .dataframe thead th {\n",
       "        text-align: right;\n",
       "    }\n",
       "</style>\n",
       "<table border=\"1\" class=\"dataframe\">\n",
       "  <thead>\n",
       "    <tr style=\"text-align: right;\">\n",
       "      <th></th>\n",
       "      <th>Avg. Area Income</th>\n",
       "      <th>Avg. Area House Age</th>\n",
       "      <th>Avg. Area Number of Rooms</th>\n",
       "      <th>Area Population</th>\n",
       "      <th>Price</th>\n",
       "    </tr>\n",
       "  </thead>\n",
       "  <tbody>\n",
       "    <tr>\n",
       "      <th>0</th>\n",
       "      <td>79545.458574</td>\n",
       "      <td>5.682861</td>\n",
       "      <td>7.009188</td>\n",
       "      <td>23086.800503</td>\n",
       "      <td>1.059034e+06</td>\n",
       "    </tr>\n",
       "  </tbody>\n",
       "</table>\n",
       "</div>"
      ],
      "text/plain": [
       "   Avg. Area Income  Avg. Area House Age  Avg. Area Number of Rooms  \\\n",
       "0      79545.458574             5.682861                   7.009188   \n",
       "\n",
       "   Area Population         Price  \n",
       "0     23086.800503  1.059034e+06  "
      ]
     },
     "execution_count": 19,
     "metadata": {},
     "output_type": "execute_result"
    }
   ],
   "source": [
    "df_cleaned.head(1)"
   ]
  },
  {
   "cell_type": "code",
   "execution_count": 20,
   "metadata": {},
   "outputs": [],
   "source": [
    "feature_df=[feature for feature in df_cleaned.columns if feature not in ['Price']]"
   ]
  },
  {
   "cell_type": "code",
   "execution_count": 21,
   "metadata": {},
   "outputs": [
    {
     "data": {
      "text/plain": [
       "MinMaxScaler()"
      ]
     },
     "execution_count": 21,
     "metadata": {},
     "output_type": "execute_result"
    }
   ],
   "source": [
    "from sklearn.preprocessing import MinMaxScaler\n",
    "scaler=MinMaxScaler()\n",
    "scaler.fit(df_cleaned[feature_df])"
   ]
  },
  {
   "cell_type": "code",
   "execution_count": 22,
   "metadata": {},
   "outputs": [],
   "source": [
    "check_df=pd.concat([df_cleaned[['Price']].reset_index(drop=True),\n",
    "                  pd.DataFrame(scaler.transform(df_cleaned[feature_df]),columns=feature_df)],\n",
    "                   axis=1)"
   ]
  },
  {
   "cell_type": "code",
   "execution_count": 23,
   "metadata": {},
   "outputs": [
    {
     "data": {
      "text/html": [
       "<div>\n",
       "<style scoped>\n",
       "    .dataframe tbody tr th:only-of-type {\n",
       "        vertical-align: middle;\n",
       "    }\n",
       "\n",
       "    .dataframe tbody tr th {\n",
       "        vertical-align: top;\n",
       "    }\n",
       "\n",
       "    .dataframe thead th {\n",
       "        text-align: right;\n",
       "    }\n",
       "</style>\n",
       "<table border=\"1\" class=\"dataframe\">\n",
       "  <thead>\n",
       "    <tr style=\"text-align: right;\">\n",
       "      <th></th>\n",
       "      <th>Price</th>\n",
       "      <th>Avg. Area Income</th>\n",
       "      <th>Avg. Area House Age</th>\n",
       "      <th>Avg. Area Number of Rooms</th>\n",
       "      <th>Area Population</th>\n",
       "    </tr>\n",
       "  </thead>\n",
       "  <tbody>\n",
       "    <tr>\n",
       "      <th>0</th>\n",
       "      <td>1.059034e+06</td>\n",
       "      <td>0.921015</td>\n",
       "      <td>0.584593</td>\n",
       "      <td>0.669908</td>\n",
       "      <td>0.339144</td>\n",
       "    </tr>\n",
       "    <tr>\n",
       "      <th>1</th>\n",
       "      <td>1.505891e+06</td>\n",
       "      <td>0.914070</td>\n",
       "      <td>0.666048</td>\n",
       "      <td>0.601323</td>\n",
       "      <td>0.765261</td>\n",
       "    </tr>\n",
       "  </tbody>\n",
       "</table>\n",
       "</div>"
      ],
      "text/plain": [
       "          Price  Avg. Area Income  Avg. Area House Age  \\\n",
       "0  1.059034e+06          0.921015             0.584593   \n",
       "1  1.505891e+06          0.914070             0.666048   \n",
       "\n",
       "   Avg. Area Number of Rooms  Area Population  \n",
       "0                   0.669908         0.339144  \n",
       "1                   0.601323         0.765261  "
      ]
     },
     "execution_count": 23,
     "metadata": {},
     "output_type": "execute_result"
    }
   ],
   "source": [
    "check_df.head(2)"
   ]
  },
  {
   "cell_type": "code",
   "execution_count": 115,
   "metadata": {},
   "outputs": [],
   "source": [
    "##FEATURE SELECTION\n",
    "from sklearn.linear_model import Lasso\n",
    "from sklearn.feature_selection import SelectFromModel"
   ]
  },
  {
   "cell_type": "code",
   "execution_count": 116,
   "metadata": {},
   "outputs": [],
   "source": [
    "y=check_df[['Price']]"
   ]
  },
  {
   "cell_type": "code",
   "execution_count": 117,
   "metadata": {},
   "outputs": [],
   "source": [
    "x=check_df.drop('Price',axis=1)"
   ]
  },
  {
   "cell_type": "code",
   "execution_count": 118,
   "metadata": {},
   "outputs": [],
   "source": [
    "from sklearn.model_selection import train_test_split"
   ]
  },
  {
   "cell_type": "code",
   "execution_count": 119,
   "metadata": {},
   "outputs": [],
   "source": [
    "x_train,x_test,y_train,y_test=train_test_split(x,y,test_size=0.2,random_state=10)"
   ]
  },
  {
   "cell_type": "code",
   "execution_count": 120,
   "metadata": {},
   "outputs": [],
   "source": [
    "from sklearn.linear_model import LinearRegression\n",
    "clf=LinearRegression()"
   ]
  },
  {
   "cell_type": "code",
   "execution_count": 121,
   "metadata": {},
   "outputs": [
    {
     "data": {
      "text/plain": [
       "LinearRegression()"
      ]
     },
     "execution_count": 121,
     "metadata": {},
     "output_type": "execute_result"
    }
   ],
   "source": [
    "clf.fit(x_train,y_train)"
   ]
  },
  {
   "cell_type": "code",
   "execution_count": 122,
   "metadata": {},
   "outputs": [
    {
     "data": {
      "text/plain": [
       "array([[1054131.00679895],\n",
       "       [ 846364.72290691],\n",
       "       [1474477.75918598],\n",
       "       [1364030.83016609],\n",
       "       [1187639.23389024],\n",
       "       [1210014.49467468],\n",
       "       [1350718.85307978],\n",
       "       [1330135.39253124],\n",
       "       [ 244289.88434078],\n",
       "       [1456136.91976592],\n",
       "       [ 820876.57985358],\n",
       "       [1391202.54009074],\n",
       "       [1027093.10577058],\n",
       "       [1124205.09652721],\n",
       "       [1297590.2246343 ],\n",
       "       [ 765741.70131569],\n",
       "       [ 773342.80719188],\n",
       "       [1421593.12494116],\n",
       "       [1403228.36567195],\n",
       "       [ 870117.35998516],\n",
       "       [1093351.1987415 ],\n",
       "       [ 461484.77229618],\n",
       "       [ 345674.78895541],\n",
       "       [1049264.42478975],\n",
       "       [ 856366.57286745],\n",
       "       [ 786671.80302639],\n",
       "       [1527049.31040256],\n",
       "       [1287070.48657457],\n",
       "       [1420242.69330768],\n",
       "       [ 996790.63962183],\n",
       "       [1260268.11921054],\n",
       "       [1353162.5297994 ],\n",
       "       [1082209.25712725],\n",
       "       [1025981.62399181],\n",
       "       [1516812.90836237],\n",
       "       [1277336.0881431 ],\n",
       "       [ 670715.06835237],\n",
       "       [1034198.74525537],\n",
       "       [1581539.02183523],\n",
       "       [1362390.14176841],\n",
       "       [1531807.10414377],\n",
       "       [1451602.65864582],\n",
       "       [1473474.7081114 ],\n",
       "       [ 945842.71049667],\n",
       "       [1119703.18191541],\n",
       "       [1218890.92892904],\n",
       "       [1109678.91458092],\n",
       "       [1492154.85286334],\n",
       "       [1255408.66913341],\n",
       "       [ 710713.35359916],\n",
       "       [1089310.0036915 ],\n",
       "       [1039067.00664403],\n",
       "       [1116648.90714292],\n",
       "       [1033914.89030567],\n",
       "       [1103027.53607535],\n",
       "       [1547403.66028576],\n",
       "       [1333812.59836889],\n",
       "       [ 706495.01980257],\n",
       "       [1209648.01799538],\n",
       "       [ 668542.69049611],\n",
       "       [1153742.22941875],\n",
       "       [ 909491.99796696],\n",
       "       [1601113.02664057],\n",
       "       [ 902519.79484498],\n",
       "       [1478129.30382194],\n",
       "       [ 887762.6581893 ],\n",
       "       [1035888.97984439],\n",
       "       [1488324.79470331],\n",
       "       [1271555.54170655],\n",
       "       [1347778.06237416],\n",
       "       [1243468.91181835],\n",
       "       [1047038.4473959 ],\n",
       "       [ 980177.60366349],\n",
       "       [1333681.92085626],\n",
       "       [1488631.00665105],\n",
       "       [1041145.6280963 ],\n",
       "       [ 700110.07866992],\n",
       "       [1329543.04353256],\n",
       "       [1236333.16274486],\n",
       "       [1071973.5839801 ],\n",
       "       [1263906.47603481],\n",
       "       [ 975934.43357388],\n",
       "       [ 909599.6218361 ],\n",
       "       [ 773116.67921307],\n",
       "       [1269717.57171023],\n",
       "       [1197426.24023441],\n",
       "       [1223169.6763553 ],\n",
       "       [1681729.69242675],\n",
       "       [1101789.6762009 ],\n",
       "       [ 887261.74474276],\n",
       "       [ 747571.10505009],\n",
       "       [1356393.27466559],\n",
       "       [1214792.68412286],\n",
       "       [1290721.26531093],\n",
       "       [1733634.18676353],\n",
       "       [1100574.65056989],\n",
       "       [1478100.56285689],\n",
       "       [ 781575.98030559],\n",
       "       [1375308.37117737],\n",
       "       [1206817.48363456],\n",
       "       [1184038.84287796],\n",
       "       [ 223395.33782675],\n",
       "       [1255874.58628918],\n",
       "       [1109710.58413557],\n",
       "       [1494203.72178522],\n",
       "       [1732692.6441902 ],\n",
       "       [ 988538.87313676],\n",
       "       [1011590.19569119],\n",
       "       [1152048.81076844],\n",
       "       [1154704.73723538],\n",
       "       [1270527.07944355],\n",
       "       [1235068.90783468],\n",
       "       [1591248.96463567],\n",
       "       [ 917956.81527802],\n",
       "       [ 859507.90471505],\n",
       "       [1441372.06150477],\n",
       "       [1024200.18766901],\n",
       "       [1029474.25578302],\n",
       "       [1146824.96516375],\n",
       "       [1114049.72482113],\n",
       "       [1183259.98168453],\n",
       "       [1118196.50616449],\n",
       "       [ 795464.74544325],\n",
       "       [1083914.7707088 ],\n",
       "       [ 994669.80742293],\n",
       "       [1087219.91123497],\n",
       "       [1233527.00793254],\n",
       "       [ 976589.19627491],\n",
       "       [ 695783.59171364],\n",
       "       [1029806.53571515],\n",
       "       [ 681748.74525398],\n",
       "       [ 886213.62025434],\n",
       "       [ 883705.4014836 ],\n",
       "       [1219351.8385865 ],\n",
       "       [1050881.52062673],\n",
       "       [ 800045.65697165],\n",
       "       [ 422518.89879404],\n",
       "       [1394425.74918873],\n",
       "       [ 854595.59393605],\n",
       "       [1234742.01496421],\n",
       "       [1014084.72584782],\n",
       "       [1124640.67825282],\n",
       "       [1075775.79799416],\n",
       "       [1350771.85253508],\n",
       "       [1150327.20274606],\n",
       "       [1751623.06305595],\n",
       "       [ 828037.09194351],\n",
       "       [1261040.71790437],\n",
       "       [1023846.24093784],\n",
       "       [1627860.07091678],\n",
       "       [ 771769.67247691],\n",
       "       [1007300.34984435],\n",
       "       [1039636.19720278],\n",
       "       [1448476.23467095],\n",
       "       [ 934856.13024022],\n",
       "       [1306871.2163439 ],\n",
       "       [1404213.72689889],\n",
       "       [ 987685.94144229],\n",
       "       [1673764.94098167],\n",
       "       [ 891903.09006281],\n",
       "       [ 985307.37231087],\n",
       "       [1523940.79492841],\n",
       "       [ 669721.99800239],\n",
       "       [1341838.48016337],\n",
       "       [1039419.85842935],\n",
       "       [1315971.17105402],\n",
       "       [ 566438.36742653],\n",
       "       [1315254.75422609],\n",
       "       [1345063.94622521],\n",
       "       [1154749.88791715],\n",
       "       [ 692353.57589299],\n",
       "       [1386434.75072115],\n",
       "       [1161487.64429336],\n",
       "       [ 916595.35142656],\n",
       "       [1329805.29453738],\n",
       "       [1608729.63871976],\n",
       "       [1057664.12023504],\n",
       "       [1451932.8454718 ],\n",
       "       [1327073.25097607],\n",
       "       [1252608.63896508],\n",
       "       [1080654.54784494],\n",
       "       [1020443.92532762],\n",
       "       [1283154.30055279],\n",
       "       [1333594.53184909],\n",
       "       [1409762.90793212],\n",
       "       [ 755342.79092519],\n",
       "       [1366057.71594094],\n",
       "       [1284823.8077643 ],\n",
       "       [ 725679.74348731],\n",
       "       [1000505.48542073],\n",
       "       [ 752775.60481771],\n",
       "       [ 913433.0098138 ],\n",
       "       [1025071.47850085],\n",
       "       [1163619.34786797],\n",
       "       [1098155.09920566],\n",
       "       [1553327.13588548],\n",
       "       [1503122.05341341],\n",
       "       [1278531.14336354],\n",
       "       [1199025.28584398],\n",
       "       [1587604.66946005],\n",
       "       [1258971.45716292],\n",
       "       [ 947865.82231662],\n",
       "       [1016285.60799511],\n",
       "       [1223798.25188485],\n",
       "       [1114555.40317421],\n",
       "       [1285197.51111569],\n",
       "       [ 847539.27919377],\n",
       "       [ 646368.88622076],\n",
       "       [1459270.01371438],\n",
       "       [ 875872.02417491],\n",
       "       [1501625.51974235],\n",
       "       [1420309.95915592],\n",
       "       [ 739915.16751971],\n",
       "       [1662283.92190181],\n",
       "       [ 924900.22939251],\n",
       "       [1100893.34162544],\n",
       "       [ 958398.21820599],\n",
       "       [1358789.5151203 ],\n",
       "       [ 775230.51170126],\n",
       "       [ 857213.99426422],\n",
       "       [1022159.27315502],\n",
       "       [1279735.40465425],\n",
       "       [ 715052.21897013],\n",
       "       [1240908.43095696],\n",
       "       [ 511324.37061423],\n",
       "       [1387084.00383344],\n",
       "       [1894901.72992129],\n",
       "       [1231131.48208876],\n",
       "       [1333191.51550665],\n",
       "       [ 921677.47683317],\n",
       "       [ 773082.50852759],\n",
       "       [ 482926.19725975],\n",
       "       [1472695.98391762],\n",
       "       [1577436.27664237],\n",
       "       [1127537.43053018],\n",
       "       [1207136.62022203],\n",
       "       [ 953937.40666489],\n",
       "       [1043390.63605715],\n",
       "       [1282923.70887866],\n",
       "       [1236957.77166303],\n",
       "       [1202333.64514157],\n",
       "       [1311541.16931763],\n",
       "       [1581385.6089083 ],\n",
       "       [ 834510.70095183],\n",
       "       [ 989079.45339084],\n",
       "       [1499439.49646042],\n",
       "       [1233766.86601209],\n",
       "       [1227378.06921553],\n",
       "       [1536221.18845307],\n",
       "       [1123831.87340033],\n",
       "       [ 918481.65012683],\n",
       "       [1140760.91180752],\n",
       "       [1273929.0249453 ],\n",
       "       [1281245.87253503],\n",
       "       [1567591.79458283],\n",
       "       [1491400.38844329],\n",
       "       [1184325.60667682],\n",
       "       [1390090.61500074],\n",
       "       [1456817.67393204],\n",
       "       [1073972.78378546],\n",
       "       [1347676.08517469],\n",
       "       [ 696046.53118262],\n",
       "       [ 855010.19561013],\n",
       "       [ 885832.29767351],\n",
       "       [1296671.61268547],\n",
       "       [1233287.28795704],\n",
       "       [1593502.47753193],\n",
       "       [ 781379.01616746],\n",
       "       [1194988.61094968],\n",
       "       [ 814194.38176646],\n",
       "       [1058287.23310633],\n",
       "       [1125486.38726151],\n",
       "       [1174786.36463695],\n",
       "       [ 833671.87143426],\n",
       "       [1373979.80853523],\n",
       "       [1600662.45943459],\n",
       "       [ 954383.11254972],\n",
       "       [ 760028.13608997],\n",
       "       [1013634.53453842],\n",
       "       [1197982.50671785],\n",
       "       [ 986390.84011189],\n",
       "       [1159296.01665896],\n",
       "       [ 501614.7737263 ],\n",
       "       [ 686688.12799505],\n",
       "       [1245890.39205953],\n",
       "       [ 405946.71116865],\n",
       "       [ 927586.53830714],\n",
       "       [1161787.22169904],\n",
       "       [ 613005.65454578],\n",
       "       [1137318.89195991],\n",
       "       [ 530133.07565383],\n",
       "       [ 605014.98917452],\n",
       "       [1232026.20848651],\n",
       "       [ 874626.52680234],\n",
       "       [1227123.15500399],\n",
       "       [ 928871.13339029],\n",
       "       [1215769.88593477],\n",
       "       [ 793097.84061498],\n",
       "       [1361798.63762298],\n",
       "       [1214206.27795733],\n",
       "       [1114359.12821689],\n",
       "       [ 909078.51061722],\n",
       "       [1008561.09399424],\n",
       "       [1784538.85061114],\n",
       "       [ 761525.76859193],\n",
       "       [1564637.96269985],\n",
       "       [1737763.03310401],\n",
       "       [ 675381.1927305 ],\n",
       "       [1245094.48382031],\n",
       "       [1024427.71394797],\n",
       "       [1077955.81571109],\n",
       "       [ 510873.80803054],\n",
       "       [1498023.72527011],\n",
       "       [ 977777.67533129],\n",
       "       [1587651.81980244],\n",
       "       [ 633439.19471031],\n",
       "       [1324432.71031651],\n",
       "       [1280339.2137848 ],\n",
       "       [ 877561.46992893],\n",
       "       [1337307.16503384],\n",
       "       [1534034.62216694],\n",
       "       [1190467.09744926],\n",
       "       [1339105.37927058],\n",
       "       [1444922.13096443],\n",
       "       [1154589.43758649],\n",
       "       [ 814164.61122524],\n",
       "       [ 834239.70077734],\n",
       "       [ 839942.25557514],\n",
       "       [1480904.36319437],\n",
       "       [1321227.36620377],\n",
       "       [1599900.31559756],\n",
       "       [1290433.63926964],\n",
       "       [1176374.79469942],\n",
       "       [ 921632.18059615],\n",
       "       [1063747.92205561],\n",
       "       [1263589.47218318],\n",
       "       [1107779.13044009],\n",
       "       [1261891.11762883],\n",
       "       [1340685.72988901],\n",
       "       [1156762.72895467],\n",
       "       [1007639.60866694],\n",
       "       [1073030.87049204],\n",
       "       [1248499.54569484],\n",
       "       [ 965932.59952406],\n",
       "       [ 735899.64775744],\n",
       "       [1134248.2372425 ],\n",
       "       [1075203.10767474],\n",
       "       [ 987857.65885648],\n",
       "       [1052868.54029325],\n",
       "       [1499735.682151  ],\n",
       "       [1488870.96280007],\n",
       "       [ 927126.32440971],\n",
       "       [ 256513.02151628],\n",
       "       [1425000.32353748],\n",
       "       [1849697.26923452],\n",
       "       [1143308.47368871],\n",
       "       [ 982048.94628164],\n",
       "       [1365032.37475135],\n",
       "       [ 970083.88797796],\n",
       "       [1265031.29154459],\n",
       "       [1678889.20243037],\n",
       "       [ 887454.6959672 ],\n",
       "       [ 810572.30430584],\n",
       "       [ 874747.23489563],\n",
       "       [1061627.7640738 ],\n",
       "       [ 749299.51873878],\n",
       "       [1146149.79614054],\n",
       "       [ 571686.07824648],\n",
       "       [1307199.40633069],\n",
       "       [1207212.98250208],\n",
       "       [1285453.08299205],\n",
       "       [1192708.77507867],\n",
       "       [ 657543.86436465],\n",
       "       [1237674.80345647],\n",
       "       [ 849311.56485147],\n",
       "       [1299360.42509107],\n",
       "       [1186329.29597072],\n",
       "       [1189764.38554156],\n",
       "       [1123961.56687984],\n",
       "       [1182631.6373988 ],\n",
       "       [1459021.68986377],\n",
       "       [1275198.2940228 ],\n",
       "       [1448556.05614393],\n",
       "       [1012440.34850236],\n",
       "       [1009120.32216461],\n",
       "       [1361268.69161575],\n",
       "       [1223922.34238747],\n",
       "       [1404059.17659015],\n",
       "       [ 919749.44784973],\n",
       "       [1175387.99476713],\n",
       "       [ 872310.41863209],\n",
       "       [1310086.85182984],\n",
       "       [1322340.263138  ],\n",
       "       [ 965009.37592708],\n",
       "       [ 835275.5697159 ],\n",
       "       [ 716679.59036806],\n",
       "       [ 857539.07844222],\n",
       "       [1164129.36996282],\n",
       "       [1591273.68987858],\n",
       "       [1706496.2678675 ],\n",
       "       [1049127.42833504],\n",
       "       [1121112.80101183],\n",
       "       [1348886.03649163],\n",
       "       [1395200.19847475],\n",
       "       [1156135.71978896],\n",
       "       [1279033.45461181],\n",
       "       [1006874.52678394],\n",
       "       [1095062.44570067],\n",
       "       [1102261.98329284],\n",
       "       [1052644.75363146],\n",
       "       [1170769.72506286],\n",
       "       [1346736.80365733],\n",
       "       [1691676.31816747],\n",
       "       [1110774.27382339],\n",
       "       [1371670.82258702],\n",
       "       [1162509.08811648],\n",
       "       [1401785.02327486],\n",
       "       [1186715.69112907],\n",
       "       [1347758.27079955],\n",
       "       [1321618.38058701],\n",
       "       [1590680.05381992],\n",
       "       [1298468.03925015],\n",
       "       [ 876297.11416298],\n",
       "       [1230803.80898911],\n",
       "       [1021907.112686  ],\n",
       "       [1635840.31205944],\n",
       "       [1116972.33172599],\n",
       "       [1005347.08380644],\n",
       "       [1575707.26997692],\n",
       "       [ 975331.62004787],\n",
       "       [1118333.32838752],\n",
       "       [ 845426.81414064],\n",
       "       [1311805.8989113 ],\n",
       "       [ 781996.63238694],\n",
       "       [ 756985.87744017],\n",
       "       [ 966775.54316494],\n",
       "       [1099371.57377761],\n",
       "       [ 966509.14618582],\n",
       "       [ 885577.69771912],\n",
       "       [1303581.25977854],\n",
       "       [1383031.82634605],\n",
       "       [1212437.77600226],\n",
       "       [ 912949.10533239],\n",
       "       [1734300.3707688 ],\n",
       "       [ 831638.45068739],\n",
       "       [1277028.10314373],\n",
       "       [1481532.32987704],\n",
       "       [ 712327.95083523],\n",
       "       [1393112.72822397],\n",
       "       [ 487493.45560927],\n",
       "       [ 851818.17684023],\n",
       "       [ 594637.87390319],\n",
       "       [1335105.19389883],\n",
       "       [1307417.98025683],\n",
       "       [1112990.18652606],\n",
       "       [1464988.39405913],\n",
       "       [1117552.6883046 ],\n",
       "       [ 692596.48308555],\n",
       "       [ 806742.49680141],\n",
       "       [1041361.00188108],\n",
       "       [1072899.80089306],\n",
       "       [ 743204.61608658],\n",
       "       [1166430.09483215],\n",
       "       [1283077.19825414],\n",
       "       [1342883.02521773],\n",
       "       [1008170.46732454],\n",
       "       [1085837.0425234 ],\n",
       "       [ 988664.35481854],\n",
       "       [1562514.53005087],\n",
       "       [1208050.44125358],\n",
       "       [ 432714.52207532],\n",
       "       [ 489256.64144808],\n",
       "       [ 924790.09523917],\n",
       "       [1367740.58117753],\n",
       "       [1268060.98119238],\n",
       "       [1413841.57149127],\n",
       "       [1392484.11839026],\n",
       "       [ 750385.69300823],\n",
       "       [1231065.85158602],\n",
       "       [1396342.36118721],\n",
       "       [1096272.0121346 ],\n",
       "       [1369887.67799106],\n",
       "       [1623904.00964495],\n",
       "       [ 614218.08658108],\n",
       "       [1285109.95952334],\n",
       "       [1192528.5318206 ],\n",
       "       [1000240.56305446],\n",
       "       [ 907962.81960314],\n",
       "       [1306296.39306698],\n",
       "       [1092054.0524145 ],\n",
       "       [ 945349.4769237 ],\n",
       "       [1409823.69433101],\n",
       "       [ 917461.02011823],\n",
       "       [1379735.72685598],\n",
       "       [1365818.90223859],\n",
       "       [1639208.41997624],\n",
       "       [1077603.4911416 ],\n",
       "       [1088909.23626346],\n",
       "       [ 877663.81260769],\n",
       "       [1356257.2519569 ],\n",
       "       [ 754650.61172736],\n",
       "       [1298027.44979441],\n",
       "       [1492853.79583883],\n",
       "       [1290466.69080582],\n",
       "       [ 839137.72092602],\n",
       "       [1062914.83554932],\n",
       "       [1341237.16933146],\n",
       "       [1035738.89205811],\n",
       "       [1341128.43969389],\n",
       "       [1345859.6880351 ],\n",
       "       [1277969.59973786],\n",
       "       [1029514.76305147],\n",
       "       [ 844957.38254323],\n",
       "       [1326810.26278829],\n",
       "       [1554997.88604205],\n",
       "       [ 755675.07460112],\n",
       "       [ 701068.0845269 ],\n",
       "       [1388092.92760987],\n",
       "       [1360852.10466146],\n",
       "       [ 993940.99309425],\n",
       "       [1182404.0591246 ],\n",
       "       [1050293.25074072],\n",
       "       [1407306.35123145],\n",
       "       [1016093.76851155],\n",
       "       [1185085.46818969],\n",
       "       [1270521.16512663],\n",
       "       [1088367.06334052],\n",
       "       [1330639.77305807],\n",
       "       [1266351.40232658],\n",
       "       [ 887467.67702712],\n",
       "       [1350330.08862798],\n",
       "       [ 618259.44634065],\n",
       "       [1070433.39552127],\n",
       "       [1412701.64652539],\n",
       "       [ 629474.26433663],\n",
       "       [ 990367.11154293],\n",
       "       [1024561.62193632],\n",
       "       [1625839.82057807],\n",
       "       [ 611540.15879873],\n",
       "       [1029146.61839413],\n",
       "       [1124075.30384617],\n",
       "       [ 882154.34790065],\n",
       "       [1229256.29641736],\n",
       "       [ 893993.32220141],\n",
       "       [ 963296.81944932],\n",
       "       [1036894.05049636],\n",
       "       [1153208.16889319],\n",
       "       [1234736.88312207],\n",
       "       [1195783.22660485],\n",
       "       [1260401.56181876],\n",
       "       [1384181.80868079],\n",
       "       [1046071.06672161],\n",
       "       [1036336.30540403],\n",
       "       [1211421.58500255],\n",
       "       [ 539982.54472009],\n",
       "       [ 897814.58391282],\n",
       "       [1530947.06476932],\n",
       "       [1228540.10308652],\n",
       "       [ 892847.02747545],\n",
       "       [1640112.55485115],\n",
       "       [ 842309.57122351],\n",
       "       [1772768.2249473 ],\n",
       "       [1214784.46581397],\n",
       "       [1118071.20573515],\n",
       "       [ 913816.15183072],\n",
       "       [1456381.33227847],\n",
       "       [ 877782.86245958],\n",
       "       [1456305.67484465],\n",
       "       [1330934.84555778],\n",
       "       [1554542.67318867],\n",
       "       [1046491.5883358 ],\n",
       "       [1150039.38316528],\n",
       "       [1283629.77506814],\n",
       "       [ 620535.10010173],\n",
       "       [1421972.44580767],\n",
       "       [ 894272.50297099],\n",
       "       [1498745.79153701],\n",
       "       [1702380.71579229],\n",
       "       [1328012.00797151],\n",
       "       [1596685.8043928 ],\n",
       "       [ 917553.52756576],\n",
       "       [1507085.40231853],\n",
       "       [1307202.68329896],\n",
       "       [ 906710.26122877],\n",
       "       [ 567539.22801157],\n",
       "       [1000117.06973827],\n",
       "       [ 341679.76603197],\n",
       "       [1387113.44928033],\n",
       "       [1111688.57025351],\n",
       "       [1178330.03872893],\n",
       "       [1214061.15938082],\n",
       "       [ 993717.77311398],\n",
       "       [1577700.00166341],\n",
       "       [ 957342.02574416],\n",
       "       [1372664.30289394],\n",
       "       [ 898744.3179164 ],\n",
       "       [ 939480.85939854],\n",
       "       [1323777.56211431],\n",
       "       [1191668.56104865],\n",
       "       [ 773636.8493583 ],\n",
       "       [1563758.23308604],\n",
       "       [ 770841.21953814],\n",
       "       [1039968.33371832],\n",
       "       [ 918259.2978861 ],\n",
       "       [1138216.73646825],\n",
       "       [ 928872.82413425],\n",
       "       [1424303.7703877 ],\n",
       "       [ 971608.15235686],\n",
       "       [1271811.88119148],\n",
       "       [1256697.10153901],\n",
       "       [1643379.91852685],\n",
       "       [ 930992.22945783],\n",
       "       [1460517.64197808],\n",
       "       [ 681666.65692683],\n",
       "       [1292355.43537911],\n",
       "       [ 781149.37597102],\n",
       "       [1010121.39653916],\n",
       "       [1111860.92218124],\n",
       "       [1510968.80681016],\n",
       "       [1300127.28017166],\n",
       "       [1145955.91578056],\n",
       "       [1064697.52867643],\n",
       "       [1423068.43395461],\n",
       "       [1021823.24765182],\n",
       "       [1114878.10737502],\n",
       "       [1147507.2318904 ],\n",
       "       [1074709.53953059],\n",
       "       [ 969698.15224847],\n",
       "       [ 702859.1387551 ],\n",
       "       [ 882881.64920699],\n",
       "       [1002544.96418942],\n",
       "       [ 370601.92892376],\n",
       "       [ 830055.17246929],\n",
       "       [1342504.41263121],\n",
       "       [1511991.21121934],\n",
       "       [1685519.88400683],\n",
       "       [1487593.63908433],\n",
       "       [ 703636.67353372],\n",
       "       [1142894.25188593],\n",
       "       [1227968.22912296],\n",
       "       [ 975899.29571593],\n",
       "       [ 674635.09227499],\n",
       "       [1484772.49652288],\n",
       "       [ 539515.75356035],\n",
       "       [1193829.14685994],\n",
       "       [ 688530.59248434],\n",
       "       [1488887.52985261],\n",
       "       [1448011.75411308],\n",
       "       [1066146.26285701],\n",
       "       [1297957.26072218],\n",
       "       [1479121.34960437],\n",
       "       [ 800303.08104174],\n",
       "       [1487022.66157387],\n",
       "       [1342240.2032721 ],\n",
       "       [1298833.25820503],\n",
       "       [1026699.37404537],\n",
       "       [ 908370.43248978],\n",
       "       [1066143.0636848 ],\n",
       "       [1125846.96684278],\n",
       "       [ 825718.12347071],\n",
       "       [1221829.73427871],\n",
       "       [1054830.14495796],\n",
       "       [1312901.59869025],\n",
       "       [1138693.28364557],\n",
       "       [ 496354.7743549 ],\n",
       "       [1527036.21460999],\n",
       "       [1083805.84276144],\n",
       "       [1024035.97303734],\n",
       "       [1231114.60355653],\n",
       "       [ 922672.90074078],\n",
       "       [1185138.03775322],\n",
       "       [ 971886.19088848],\n",
       "       [1133924.64194776],\n",
       "       [1341590.87307923],\n",
       "       [1122347.17820828],\n",
       "       [1322437.95820188],\n",
       "       [1172095.94911207],\n",
       "       [ 615564.39981947],\n",
       "       [1012216.87405267],\n",
       "       [1210426.46135121],\n",
       "       [1437474.24764251],\n",
       "       [1286835.69650176],\n",
       "       [ 927648.58941697],\n",
       "       [1235966.84032376],\n",
       "       [ 773455.63357199],\n",
       "       [1483574.44890089]])"
      ]
     },
     "execution_count": 122,
     "metadata": {},
     "output_type": "execute_result"
    }
   ],
   "source": [
    "clf.predict(x_test)"
   ]
  },
  {
   "cell_type": "code",
   "execution_count": 123,
   "metadata": {},
   "outputs": [
    {
     "data": {
      "text/plain": [
       "0.8921181268831856"
      ]
     },
     "execution_count": 123,
     "metadata": {},
     "output_type": "execute_result"
    }
   ],
   "source": [
    "clf.score(x_test,y_test)"
   ]
  },
  {
   "cell_type": "code",
   "execution_count": 124,
   "metadata": {},
   "outputs": [
    {
     "data": {
      "text/plain": [
       "<matplotlib.collections.PathCollection at 0x1dc50a50040>"
      ]
     },
     "execution_count": 124,
     "metadata": {},
     "output_type": "execute_result"
    },
    {
     "data": {
      "image/png": "[encoded data removed]",
      "text/plain": [
       "<Figure size 432x288 with 1 Axes>"
      ]
     },
     "metadata": {
      "needs_background": "light"
     },
     "output_type": "display_data"
    }
   ],
   "source": [
    "plt.scatter(y_train,x_test)"
   ]
  },
  {
   "cell_type": "code",
   "execution_count": 125,
   "metadata": {},
   "outputs": [],
   "source": [
    "##XGBoost"
   ]
  },
  {
   "cell_type": "code",
   "execution_count": 126,
   "metadata": {},
   "outputs": [
    {
     "data": {
      "text/plain": [
       "XGBRegressor(base_score=0.5, booster='gbtree', colsample_bylevel=1,\n",
       "             colsample_bynode=1, colsample_bytree=1, gamma=0, gpu_id=-1,\n",
       "             importance_type='gain', interaction_constraints='',\n",
       "             learning_rate=0.300000012, max_delta_step=0, max_depth=6,\n",
       "             min_child_weight=1, missing=nan, monotone_constraints='()',\n",
       "             n_estimators=100, n_jobs=8, num_parallel_tree=1, random_state=0,\n",
       "             reg_alpha=0, reg_lambda=1, scale_pos_weight=1, subsample=1,\n",
       "             tree_method='exact', validate_parameters=1, verbosity=None)"
      ]
     },
     "execution_count": 126,
     "metadata": {},
     "output_type": "execute_result"
    }
   ],
   "source": [
    "from xgboost import XGBRegressor\n",
    "reg_boost=XGBRegressor()\n",
    "reg_boost.fit(x_train,y_train)"
   ]
  },
  {
   "cell_type": "code",
   "execution_count": 127,
   "metadata": {},
   "outputs": [],
   "source": [
    "y_pred_boost=reg_boost.predict(x_train)"
   ]
  },
  {
   "cell_type": "code",
   "execution_count": 128,
   "metadata": {},
   "outputs": [
    {
     "data": {
      "text/plain": [
       "0.9789262378285917"
      ]
     },
     "execution_count": 128,
     "metadata": {},
     "output_type": "execute_result"
    }
   ],
   "source": [
    "reg_boost.score(x_train, y_train)"
   ]
  },
  {
   "cell_type": "code",
   "execution_count": 129,
   "metadata": {},
   "outputs": [
    {
     "data": {
      "text/plain": [
       "Text(0.5, 1.0, 'Prices vs Predicted Prices ')"
      ]
     },
     "execution_count": 129,
     "metadata": {},
     "output_type": "execute_result"
    },
    {
     "data": {
      "image/png": "[encoded data removed]",
      "text/plain": [
       "<Figure size 432x288 with 1 Axes>"
      ]
     },
     "metadata": {
      "needs_background": "light"
     },
     "output_type": "display_data"
    }
   ],
   "source": [
    "plt.scatter(y_train,y_pred_boost)\n",
    "plt.xlabel('Prices')\n",
    "plt.ylabel('Predicted Prices')\n",
    "plt.title('Prices vs Predicted Prices ')"
   ]
  },
  {
   "cell_type": "code",
   "execution_count": 130,
   "metadata": {},
   "outputs": [
    {
     "data": {
      "text/plain": [
       "XGBRegressor(base_score=0.5, booster='gbtree', colsample_bylevel=1,\n",
       "             colsample_bynode=1, colsample_bytree=1, gamma=0, gpu_id=-1,\n",
       "             importance_type='gain', interaction_constraints='',\n",
       "             learning_rate=0.300000012, max_delta_step=0, max_depth=6,\n",
       "             min_child_weight=1, missing=nan, monotone_constraints='()',\n",
       "             n_estimators=100, n_jobs=8, num_parallel_tree=1, random_state=0,\n",
       "             reg_alpha=0, reg_lambda=1, scale_pos_weight=1, subsample=1,\n",
       "             tree_method='exact', validate_parameters=1, verbosity=None)"
      ]
     },
     "execution_count": 130,
     "metadata": {},
     "output_type": "execute_result"
    }
   ],
   "source": [
    "reg_boost.fit(x_test,y_test)"
   ]
  },
  {
   "cell_type": "code",
   "execution_count": 131,
   "metadata": {},
   "outputs": [],
   "source": [
    "y_pred_test=reg_boost.predict(x_test)"
   ]
  },
  {
   "cell_type": "code",
   "execution_count": 132,
   "metadata": {},
   "outputs": [
    {
     "data": {
      "text/plain": [
       "0.9992689596900264"
      ]
     },
     "execution_count": 132,
     "metadata": {},
     "output_type": "execute_result"
    }
   ],
   "source": [
    "reg_boost.score(x_test,y_test)"
   ]
  },
  {
   "cell_type": "code",
   "execution_count": 133,
   "metadata": {},
   "outputs": [
    {
     "name": "stdout",
     "output_type": "stream",
     "text": [
      "R^2: 0.9992689596900264\n",
      "Adjusted R^2: 0.9992646657675008\n",
      "MAE: 5882.716953985185\n",
      "MSE: 68063299.17447324\n",
      "RMSE: 8250.048434674383\n"
     ]
    }
   ],
   "source": [
    "acc_xgb=metrics.r2_score(y_test,y_pred_test)\n",
    "print('R^2:', acc_xgb)\n",
    "print('Adjusted R^2:',1-(1-metrics.r2_score(y_test,y_pred_test))*(len(y_test)-1)/(len(y_test)-x_train.shape[1]-1))\n",
    "print('MAE:', metrics.mean_absolute_error(y_test,y_pred_test))\n",
    "print('MSE:',metrics.mean_squared_error(y_test,y_pred_test))\n",
    "print('RMSE:',np.sqrt(metrics.mean_squared_error(y_test,y_pred_test)))"
   ]
  },
  {
   "cell_type": "code",
   "execution_count": 134,
   "metadata": {},
   "outputs": [],
   "source": [
    "from sklearn import metrics\n",
    "from sklearn import linear_model\n",
    "from sklearn.linear_model import LinearRegression"
   ]
  },
  {
   "cell_type": "code",
   "execution_count": 135,
   "metadata": {},
   "outputs": [],
   "source": [
    "lm=LinearRegression()"
   ]
  },
  {
   "cell_type": "code",
   "execution_count": 136,
   "metadata": {},
   "outputs": [
    {
     "data": {
      "text/plain": [
       "LinearRegression()"
      ]
     },
     "execution_count": 136,
     "metadata": {},
     "output_type": "execute_result"
    }
   ],
   "source": [
    "lm.fit(x_train,y_train)"
   ]
  },
  {
   "cell_type": "code",
   "execution_count": 137,
   "metadata": {},
   "outputs": [],
   "source": [
    "y_pred=lm.predict(x_train)"
   ]
  },
  {
   "cell_type": "code",
   "execution_count": 138,
   "metadata": {},
   "outputs": [
    {
     "name": "stdout",
     "output_type": "stream",
     "text": [
      "R^2: 0.8871659607680931\n",
      "Adjusted R^2: 0.8870011794037529\n",
      "MAE: 81485.23495398807\n",
      "MSE: 10380327306.304071\n",
      "RMSE: 101883.89129938094\n"
     ]
    }
   ],
   "source": [
    "print('R^2:', metrics.r2_score(y_train,y_pred))\n",
    "print('Adjusted R^2:',1-(1-metrics.r2_score(y_train,y_pred))*(len(y_train)-1)/(len(y_train)-x_train.shape[1]-1))\n",
    "print('MAE:', metrics.mean_absolute_error(y_train,y_pred))\n",
    "print('MSE:',metrics.mean_squared_error(y_train,y_pred))\n",
    "print('RMSE:',np.sqrt(metrics.mean_squared_error(y_train,y_pred)))"
   ]
  },
  {
   "cell_type": "code",
   "execution_count": 139,
   "metadata": {},
   "outputs": [
    {
     "data": {
      "text/plain": [
       "Text(0.5, 1.0, 'Prices vs Predicted Prices ')"
      ]
     },
     "execution_count": 139,
     "metadata": {},
     "output_type": "execute_result"
    },
    {
     "data": {
      "image/png": "[encoded data removed]",
      "text/plain": [
       "<Figure size 432x288 with 1 Axes>"
      ]
     },
     "metadata": {
      "needs_background": "light"
     },
     "output_type": "display_data"
    }
   ],
   "source": [
    "plt.scatter(y_train,y_pred)\n",
    "plt.xlabel('Prices')\n",
    "plt.ylabel('Predicted Prices')\n",
    "plt.title('Prices vs Predicted Prices ')"
   ]
  },
  {
   "cell_type": "code",
   "execution_count": 140,
   "metadata": {},
   "outputs": [
    {
     "data": {
      "text/plain": [
       "Text(0.5, 1.0, 'Predicted vs Residuals ')"
      ]
     },
     "execution_count": 140,
     "metadata": {},
     "output_type": "execute_result"
    },
    {
     "data": {
      "image/png": "[encoded data removed]",
      "text/plain": [
       "<Figure size 432x288 with 1 Axes>"
      ]
     },
     "metadata": {
      "needs_background": "light"
     },
     "output_type": "display_data"
    }
   ],
   "source": [
    "#errors\n",
    "plt.scatter(y_pred,y_train-y_pred)\n",
    "plt.ylabel('Residuals')\n",
    "plt.xlabel('Predicted')\n",
    "plt.title('Predicted vs Residuals ')"
   ]
  },
  {
   "cell_type": "code",
   "execution_count": 141,
   "metadata": {},
   "outputs": [
    {
     "data": {
      "text/plain": [
       "Text(0.5, 1.0, 'Histogram of Residuals')"
      ]
     },
     "execution_count": 141,
     "metadata": {},
     "output_type": "execute_result"
    },
    {
     "data": {
      "image/png": "[encoded data removed]",
      "text/plain": [
       "<Figure size 432x288 with 1 Axes>"
      ]
     },
     "metadata": {
      "needs_background": "light"
     },
     "output_type": "display_data"
    }
   ],
   "source": [
    "import seaborn as sns\n",
    "sns.histplot(y_train-y_pred)\n",
    "plt.title('Histogram of Residuals')"
   ]
  },
  {
   "cell_type": "code",
   "execution_count": 142,
   "metadata": {},
   "outputs": [],
   "source": [
    "#on test data\n",
    "y_pred_lmtest=lm.predict(x_test)"
   ]
  },
  {
   "cell_type": "code",
   "execution_count": 143,
   "metadata": {},
   "outputs": [
    {
     "name": "stdout",
     "output_type": "stream",
     "text": [
      "R^2: 0.8921181268831856\n",
      "Adjusted R^2: 0.8914844594933659\n",
      "MAE: 80982.91940414274\n",
      "MSE: 10044310970.645418\n",
      "RMSE: 100221.30996272908\n"
     ]
    }
   ],
   "source": [
    "acc_linreg=metrics.r2_score(y_test,y_pred_lmtest)\n",
    "print('R^2:', acc_linreg)\n",
    "print('Adjusted R^2:',1-(1-metrics.r2_score(y_test,y_pred_lmtest))*(len(y_test)-1)/(len(y_test)-x_train.shape[1]-1))\n",
    "print('MAE:', metrics.mean_absolute_error(y_test,y_pred_lmtest))\n",
    "print('MSE:',metrics.mean_squared_error(y_test,y_pred_lmtest))\n",
    "print('RMSE:',np.sqrt(metrics.mean_squared_error(y_test,y_pred_lmtest)))"
   ]
  },
  {
   "cell_type": "code",
   "execution_count": 144,
   "metadata": {},
   "outputs": [],
   "source": [
    "#model evaluation with Random Forest"
   ]
  },
  {
   "cell_type": "code",
   "execution_count": 145,
   "metadata": {},
   "outputs": [
    {
     "name": "stderr",
     "output_type": "stream",
     "text": [
      "<ipython-input-145-61082ace50cd>:3: DataConversionWarning:\n",
      "\n",
      "A column-vector y was passed when a 1d array was expected. Please change the shape of y to (n_samples,), for example using ravel().\n",
      "\n"
     ]
    },
    {
     "data": {
      "text/plain": [
       "RandomForestRegressor()"
      ]
     },
     "execution_count": 145,
     "metadata": {},
     "output_type": "execute_result"
    }
   ],
   "source": [
    "from sklearn.ensemble import RandomForestRegressor\n",
    "reg=RandomForestRegressor()\n",
    "reg.fit(x_train,y_train)"
   ]
  },
  {
   "cell_type": "code",
   "execution_count": 146,
   "metadata": {},
   "outputs": [],
   "source": [
    "y_pred_rf=reg.predict(x_train)"
   ]
  },
  {
   "cell_type": "code",
   "execution_count": 147,
   "metadata": {},
   "outputs": [
    {
     "name": "stdout",
     "output_type": "stream",
     "text": [
      "R^2: 0.9799849859249615\n",
      "Adjusted R^2: 0.980126983584792\n",
      "MAE: 34011.35892470269\n",
      "MSE: 1841309577.7965477\n",
      "RMSE: 42910.48330882032\n"
     ]
    }
   ],
   "source": [
    "print('R^2:', metrics.r2_score(y_train,y_pred_rf))\n",
    "print('Adjusted R^2:',1-(1-metrics.r2_score(y_train,y_pred_rg))*(len(y_train)-1)/(len(y_train)-x_train.shape[1]-1))\n",
    "print('MAE:', metrics.mean_absolute_error(y_train,y_pred_rf))\n",
    "print('MSE:',metrics.mean_squared_error(y_train,y_pred_rf))\n",
    "print('RMSE:',np.sqrt(metrics.mean_squared_error(y_train,y_pred_rf)))"
   ]
  },
  {
   "cell_type": "code",
   "execution_count": 148,
   "metadata": {},
   "outputs": [
    {
     "data": {
      "text/plain": [
       "Text(0.5, 1.0, 'Prices vs Predicted Prices ')"
      ]
     },
     "execution_count": 148,
     "metadata": {},
     "output_type": "execute_result"
    },
    {
     "data": {
      "image/png": "[encoded data removed]",
      "text/plain": [
       "<Figure size 432x288 with 1 Axes>"
      ]
     },
     "metadata": {
      "needs_background": "light"
     },
     "output_type": "display_data"
    }
   ],
   "source": [
    "plt.scatter(y_train,y_pred_rf)\n",
    "plt.xlabel('Prices')\n",
    "plt.ylabel('Predicted Prices')\n",
    "plt.title('Prices vs Predicted Prices ')"
   ]
  },
  {
   "cell_type": "code",
   "execution_count": 149,
   "metadata": {},
   "outputs": [],
   "source": [
    "#on testing data\n",
    "y_pred_test=reg.predict(x_test)"
   ]
  },
  {
   "cell_type": "code",
   "execution_count": 150,
   "metadata": {},
   "outputs": [
    {
     "name": "stdout",
     "output_type": "stream",
     "text": [
      "Accuracy R^2: 0.865763965537384\n",
      "Adjusted R^2: 0.8649755013114655\n",
      "MAE: 89668.55223788894\n",
      "MSE: 12498007632.374376\n",
      "RMSE: 111794.48838102161\n"
     ]
    }
   ],
   "source": [
    "acc_rf=metrics.r2_score(y_test,y_pred_test)\n",
    "print('Accuracy R^2:', acc_rf)\n",
    "print('Adjusted R^2:',1-(1-metrics.r2_score(y_test,y_pred_test))*(len(y_test)-1)/(len(y_test)-x_test.shape[1]-1))\n",
    "print('MAE:', metrics.mean_absolute_error(y_test,y_pred_test))\n",
    "print('MSE:',metrics.mean_squared_error(y_test,y_pred_test))\n",
    "print('RMSE:',np.sqrt(metrics.mean_squared_error(y_test,y_pred_test)))"
   ]
  },
  {
   "cell_type": "code",
   "execution_count": 152,
   "metadata": {},
   "outputs": [
    {
     "data": {
      "text/html": [
       "<div>\n",
       "<style scoped>\n",
       "    .dataframe tbody tr th:only-of-type {\n",
       "        vertical-align: middle;\n",
       "    }\n",
       "\n",
       "    .dataframe tbody tr th {\n",
       "        vertical-align: top;\n",
       "    }\n",
       "\n",
       "    .dataframe thead th {\n",
       "        text-align: right;\n",
       "    }\n",
       "</style>\n",
       "<table border=\"1\" class=\"dataframe\">\n",
       "  <thead>\n",
       "    <tr style=\"text-align: right;\">\n",
       "      <th></th>\n",
       "      <th>Model</th>\n",
       "      <th>R_Squared_Score</th>\n",
       "    </tr>\n",
       "  </thead>\n",
       "  <tbody>\n",
       "    <tr>\n",
       "      <th>2</th>\n",
       "      <td>XGBoost</td>\n",
       "      <td>99.926896</td>\n",
       "    </tr>\n",
       "    <tr>\n",
       "      <th>0</th>\n",
       "      <td>Linear Regression</td>\n",
       "      <td>89.211813</td>\n",
       "    </tr>\n",
       "    <tr>\n",
       "      <th>1</th>\n",
       "      <td>Random Forest</td>\n",
       "      <td>86.576397</td>\n",
       "    </tr>\n",
       "  </tbody>\n",
       "</table>\n",
       "</div>"
      ],
      "text/plain": [
       "               Model  R_Squared_Score\n",
       "2            XGBoost        99.926896\n",
       "0  Linear Regression        89.211813\n",
       "1      Random Forest        86.576397"
      ]
     },
     "execution_count": 152,
     "metadata": {},
     "output_type": "execute_result"
    }
   ],
   "source": [
    "models=pd.DataFrame({\n",
    "    'Model':['Linear Regression','Random Forest','XGBoost'],\n",
    "    'R_Squared_Score':[acc_linreg*100,acc_rf*100,acc_xgb*100]\n",
    "})\n",
    "models.sort_values(by='R_Squared_Score',ascending=False)"
   ]
  },
  {
   "cell_type": "code",
   "execution_count": 49,
   "metadata": {},
   "outputs": [],
   "source": [
    "##CHOROPLETH"
   ]
  },
  {
   "cell_type": "code",
   "execution_count": 50,
   "metadata": {},
   "outputs": [],
   "source": [
    "import requests\n",
    "import seaborn as sns\n",
    "import json\n",
    "import chart_studio.plotly as py"
   ]
  },
  {
   "cell_type": "code",
   "execution_count": 51,
   "metadata": {},
   "outputs": [],
   "source": [
    "usa_states=json.load(open('states.geojson','r'))"
   ]
  },
  {
   "cell_type": "code",
   "execution_count": 52,
   "metadata": {
    "collapsed": true
   },
   "outputs": [
    {
     "data": {
      "text/plain": [
       "{'type': 'Feature',\n",
       " 'id': 0,\n",
       " 'properties': {'STATEFP': '31', 'STUSPS': 'NE', 'NAME': 'Nebraska'},\n",
       " 'geometry': {'type': 'MultiPolygon',\n",
       "  'coordinates': [[[[-104.053028, 43.000587],\n",
       "     [-103.618334, 43.000679],\n",
       "     [-103.132955, 43.000784],\n",
       "     [-102.487329, 42.999559],\n",
       "     [-101.849982, 42.999329],\n",
       "     [-101.625424, 42.996238],\n",
       "     [-101.000429, 42.99753],\n",
       "     [-100.631728, 42.998092],\n",
       "     [-99.918401, 42.998057],\n",
       "     [-99.471353, 42.997967],\n",
       "     [-98.899944, 42.998122],\n",
       "     [-98.49855, 42.99856],\n",
       "     [-98.467356, 42.947556],\n",
       "     [-98.342408, 42.900847],\n",
       "     [-98.325864, 42.8865],\n",
       "     [-98.258276, 42.87439],\n",
       "     [-98.219826, 42.853157],\n",
       "     [-98.129038, 42.821228],\n",
       "     [-98.035034, 42.764205],\n",
       "     [-97.950147, 42.769619],\n",
       "     [-97.888562, 42.817251],\n",
       "     [-97.875345, 42.858724],\n",
       "     [-97.84527, 42.867734],\n",
       "     [-97.774456, 42.849774],\n",
       "     [-97.686506, 42.842435],\n",
       "     [-97.603762, 42.858329],\n",
       "     [-97.561928, 42.847552],\n",
       "     [-97.504847, 42.858477],\n",
       "     [-97.442279, 42.846224],\n",
       "     [-97.417066, 42.865918],\n",
       "     [-97.359569, 42.854816],\n",
       "     [-97.306677, 42.867604],\n",
       "     [-97.289859, 42.855499],\n",
       "     [-97.218825, 42.845848],\n",
       "     [-97.210126, 42.809296],\n",
       "     [-97.150763, 42.795566],\n",
       "     [-97.131331, 42.771929],\n",
       "     [-97.071849, 42.772305],\n",
       "     [-96.982197, 42.760554],\n",
       "     [-96.948902, 42.719465],\n",
       "     [-96.906797, 42.7338],\n",
       "     [-96.806223, 42.704154],\n",
       "     [-96.802178, 42.672237],\n",
       "     [-96.728024, 42.666882],\n",
       "     [-96.687669, 42.653126],\n",
       "     [-96.710995, 42.608128],\n",
       "     [-96.685746, 42.577944],\n",
       "     [-96.638033, 42.55196],\n",
       "     [-96.625958, 42.513576],\n",
       "     [-96.603468, 42.50446],\n",
       "     [-96.557775, 42.52038],\n",
       "     [-96.525142, 42.510234],\n",
       "     [-96.501321, 42.482749],\n",
       "     [-96.445508, 42.49063],\n",
       "     [-96.396107, 42.484095],\n",
       "     [-96.380707, 42.446394],\n",
       "     [-96.411808, 42.410894],\n",
       "     [-96.407998, 42.337408],\n",
       "     [-96.369969, 42.310878],\n",
       "     [-96.368454, 42.291848],\n",
       "     [-96.331331, 42.25943],\n",
       "     [-96.323723, 42.229887],\n",
       "     [-96.356591, 42.215182],\n",
       "     [-96.347752, 42.166806],\n",
       "     [-96.310085, 42.132523],\n",
       "     [-96.267318, 42.110265],\n",
       "     [-96.279079, 42.074026],\n",
       "     [-96.271427, 42.044988],\n",
       "     [-96.238392, 42.041088],\n",
       "     [-96.184243, 41.976696],\n",
       "     [-96.129505, 41.971673],\n",
       "     [-96.142265, 41.915379],\n",
       "     [-96.161756, 41.90182],\n",
       "     [-96.116202, 41.854869],\n",
       "     [-96.107592, 41.820685],\n",
       "     [-96.069662, 41.803509],\n",
       "     [-96.117751, 41.694221],\n",
       "     [-96.095046, 41.647365],\n",
       "     [-96.114146, 41.623975],\n",
       "     [-96.083417, 41.583339],\n",
       "     [-96.092008, 41.53391],\n",
       "     [-96.05369, 41.508859],\n",
       "     [-96.026657, 41.540366],\n",
       "     [-95.992833, 41.512002],\n",
       "     [-96.004708, 41.472342],\n",
       "     [-95.932921, 41.463798],\n",
       "     [-95.93099, 41.364696],\n",
       "     [-95.956791, 41.349196],\n",
       "     [-95.92569, 41.322197],\n",
       "     [-95.88869, 41.319097],\n",
       "     [-95.88239, 41.281397],\n",
       "     [-95.928691, 41.281398],\n",
       "     [-95.911391, 41.237998],\n",
       "     [-95.92599, 41.195698],\n",
       "     [-95.864789, 41.188298],\n",
       "     [-95.88208891957109, 41.144002877049004],\n",
       "     [-95.862587, 41.088399],\n",
       "     [-95.879487, 41.053299],\n",
       "     [-95.861782, 41.039427],\n",
       "     [-95.863492, 40.99734],\n",
       "     [-95.828329, 40.972378],\n",
       "     [-95.840275, 40.939942],\n",
       "     [-95.812083, 40.884239],\n",
       "     [-95.847785, 40.864328],\n",
       "     [-95.837186, 40.835347],\n",
       "     [-95.836903, 40.776477],\n",
       "     [-95.888907, 40.731855],\n",
       "     [-95.842801, 40.677496],\n",
       "     [-95.789485, 40.659388],\n",
       "     [-95.751271, 40.609057],\n",
       "     [-95.765645, 40.585208],\n",
       "     [-95.75711, 40.52599],\n",
       "     [-95.69721, 40.528477],\n",
       "     [-95.693133, 40.469396],\n",
       "     [-95.65819, 40.44188],\n",
       "     [-95.661463, 40.415947],\n",
       "     [-95.610439, 40.31397],\n",
       "     [-95.553292, 40.291158],\n",
       "     [-95.556275, 40.270761],\n",
       "     [-95.477501, 40.24272],\n",
       "     [-95.476301, 40.181988],\n",
       "     [-95.398667, 40.126419],\n",
       "     [-95.42164, 40.058952],\n",
       "     [-95.413588, 40.038424],\n",
       "     [-95.363983, 40.031498],\n",
       "     [-95.30829, 39.999998],\n",
       "     [-95.882524, 40.00047],\n",
       "     [-96.304555, 40.000629],\n",
       "     [-96.622401, 40.001158],\n",
       "     [-97.049663, 40.001323],\n",
       "     [-97.511381, 40.001899],\n",
       "     [-97.838379, 40.00191],\n",
       "     [-98.3918540062045, 40.002410960565896],\n",
       "     [-98.710404, 40.00218],\n",
       "     [-99.169816, 40.001925],\n",
       "     [-99.813401, 40.0014],\n",
       "     [-100.468773, 40.001724],\n",
       "     [-100.937427, 40.002145],\n",
       "     [-101.409953, 40.002354],\n",
       "     [-102.051744, 40.003078],\n",
       "     [-102.051309, 40.338381],\n",
       "     [-102.05131876948302, 40.770606373931],\n",
       "     [-102.051614, 41.002377],\n",
       "     [-102.556789, 41.002219],\n",
       "     [-102.865784, 41.001988],\n",
       "     [-103.497447, 41.001635],\n",
       "     [-104.053249, 41.001406],\n",
       "     [-104.05234, 41.417865],\n",
       "     [-104.053026, 41.885464],\n",
       "     [-104.0526, 42.124963],\n",
       "     [-104.053107, 42.499964],\n",
       "     [-104.053028, 43.000587]]]]}}"
      ]
     },
     "execution_count": 52,
     "metadata": {},
     "output_type": "execute_result"
    }
   ],
   "source": [
    "usa_states['features'][0]"
   ]
  },
  {
   "cell_type": "code",
   "execution_count": 53,
   "metadata": {},
   "outputs": [],
   "source": [
    "url='https://simple.wikipedia.org/wiki/List_of_U.S._states_by_population_density'"
   ]
  },
  {
   "cell_type": "code",
   "execution_count": 154,
   "metadata": {},
   "outputs": [],
   "source": [
    "states_df=pd.read_html(url)"
   ]
  },
  {
   "cell_type": "code",
   "execution_count": 162,
   "metadata": {},
   "outputs": [],
   "source": [
    "state_df=states_df[2]"
   ]
  },
  {
   "cell_type": "code",
   "execution_count": 163,
   "metadata": {},
   "outputs": [
    {
     "data": {
      "text/html": [
       "<div>\n",
       "<style scoped>\n",
       "    .dataframe tbody tr th:only-of-type {\n",
       "        vertical-align: middle;\n",
       "    }\n",
       "\n",
       "    .dataframe tbody tr th {\n",
       "        vertical-align: top;\n",
       "    }\n",
       "\n",
       "    .dataframe thead th {\n",
       "        text-align: right;\n",
       "    }\n",
       "</style>\n",
       "<table border=\"1\" class=\"dataframe\">\n",
       "  <thead>\n",
       "    <tr style=\"text-align: right;\">\n",
       "      <th></th>\n",
       "      <th>Legend</th>\n",
       "    </tr>\n",
       "  </thead>\n",
       "  <tbody>\n",
       "    <tr>\n",
       "      <th>0</th>\n",
       "      <td>Division totals – 9 divisions for 50 States an...</td>\n",
       "    </tr>\n",
       "    <tr>\n",
       "      <th>1</th>\n",
       "      <td>Region totals – 4 regions ( 2 or 3 divisions e...</td>\n",
       "    </tr>\n",
       "  </tbody>\n",
       "</table>\n",
       "</div>"
      ],
      "text/plain": [
       "                                              Legend\n",
       "0  Division totals – 9 divisions for 50 States an...\n",
       "1  Region totals – 4 regions ( 2 or 3 divisions e..."
      ]
     },
     "execution_count": 163,
     "metadata": {},
     "output_type": "execute_result"
    }
   ],
   "source": [
    "state_df.head(2)"
   ]
  },
  {
   "cell_type": "code",
   "execution_count": 57,
   "metadata": {},
   "outputs": [],
   "source": [
    "state_df.drop([2,4,6,7,9,13,15,20,21,26,33,37,41,42,43,50,56,57,61],axis=0,inplace=True)"
   ]
  },
  {
   "cell_type": "code",
   "execution_count": 58,
   "metadata": {},
   "outputs": [],
   "source": [
    "state_df.drop(16,axis=0,inplace=True)"
   ]
  },
  {
   "cell_type": "code",
   "execution_count": 59,
   "metadata": {},
   "outputs": [
    {
     "data": {
      "text/plain": [
       "{'STATEFP': '53', 'STUSPS': 'WA', 'NAME': 'Washington'}"
      ]
     },
     "execution_count": 59,
     "metadata": {},
     "output_type": "execute_result"
    }
   ],
   "source": [
    "usa_states['features'][1]['properties']"
   ]
  },
  {
   "cell_type": "code",
   "execution_count": 60,
   "metadata": {},
   "outputs": [],
   "source": [
    "state_id_map={}\n",
    "for feature in usa_states['features']:\n",
    "    feature['id_1']=feature['properties']['STATEFP']\n",
    "    state_id_map[feature['properties']['NAME']]=feature['id_1']"
   ]
  },
  {
   "cell_type": "code",
   "execution_count": 61,
   "metadata": {},
   "outputs": [
    {
     "data": {
      "text/plain": [
       "{'Nebraska': '31',\n",
       " 'Washington': '53',\n",
       " 'New Mexico': '35',\n",
       " 'South Dakota': '46',\n",
       " 'Kentucky': '21',\n",
       " 'Georgia': '13',\n",
       " 'Arkansas': '05',\n",
       " 'Pennsylvania': '42',\n",
       " 'Mississippi': '28',\n",
       " 'Colorado': '08',\n",
       " 'Utah': '49',\n",
       " 'Tennessee': '47',\n",
       " 'Wyoming': '56',\n",
       " 'Indiana': '18',\n",
       " 'Alaska': '02',\n",
       " 'Nevada': '32',\n",
       " 'Illinois': '17',\n",
       " 'Vermont': '50',\n",
       " 'Montana': '30',\n",
       " 'Iowa': '19',\n",
       " 'South Carolina': '45',\n",
       " 'Arizona': '04',\n",
       " 'Ohio': '39',\n",
       " 'Alabama': '01',\n",
       " 'Wisconsin': '55',\n",
       " 'Oregon': '41',\n",
       " 'Missouri': '29',\n",
       " 'North Carolina': '37',\n",
       " 'Oklahoma': '40',\n",
       " 'Virginia': '51',\n",
       " 'West Virginia': '54',\n",
       " 'Louisiana': '22',\n",
       " 'Michigan': '26',\n",
       " 'Massachusetts': '25',\n",
       " 'Idaho': '16',\n",
       " 'Florida': '12',\n",
       " 'Kansas': '20',\n",
       " 'New Hampshire': '33',\n",
       " 'Delaware': '10',\n",
       " 'Texas': '48',\n",
       " 'Minnesota': '27',\n",
       " 'Connecticut': '09',\n",
       " 'New Jersey': '34',\n",
       " 'North Dakota': '38',\n",
       " 'Maryland': '24',\n",
       " 'Maine': '23',\n",
       " 'Hawaii': '15',\n",
       " 'Rhode Island': '44',\n",
       " 'California': '06',\n",
       " 'New York': '36',\n",
       " 'District of Columbia': '11'}"
      ]
     },
     "execution_count": 61,
     "metadata": {},
     "output_type": "execute_result"
    }
   ],
   "source": [
    "state_id_map"
   ]
  },
  {
   "cell_type": "code",
   "execution_count": 62,
   "metadata": {},
   "outputs": [],
   "source": [
    "state_df['id']=state_df['State/Territory/Division/Region'].apply(lambda x: state_id_map[x])"
   ]
  },
  {
   "cell_type": "code",
   "execution_count": 63,
   "metadata": {},
   "outputs": [],
   "source": [
    "import plotly.express as px"
   ]
  },
  {
   "cell_type": "code",
   "execution_count": 64,
   "metadata": {},
   "outputs": [],
   "source": [
    "import plotly.io as pio\n",
    "pio.renderers.default='browser'"
   ]
  },
  {
   "cell_type": "code",
   "execution_count": 65,
   "metadata": {},
   "outputs": [],
   "source": [
    "state_df['new_sqkm']=np.log10(state_df['Population/sqmi'])"
   ]
  },
  {
   "cell_type": "code",
   "execution_count": 66,
   "metadata": {},
   "outputs": [],
   "source": [
    "fig=px.choropleth(state_df,\n",
    "                  locations='id',\n",
    "                  geojson=usa_states,color='new_sqkm',\n",
    "                  hover_name='State/Territory/Division/Region',\n",
    "                  hover_data=['Population/sqmi'],\n",
    "                  scope='north america')\n",
    "fig.update_geos(fitbounds='locations',visible=False)\n",
    "fig.show()"
   ]
  },
  {
   "cell_type": "code",
   "execution_count": 67,
   "metadata": {},
   "outputs": [],
   "source": [
    "fig=px.choropleth_mapbox(state_df,\n",
    "                  locations='id',\n",
    "                  geojson=usa_states,color='new_sqkm',\n",
    "                  hover_name='State/Territory/Division/Region',\n",
    "                  hover_data=['Population/sqmi'],\n",
    "                    mapbox_style='carto-positron',\n",
    "                    center={'lat':40,'lon':270},\n",
    "                    zoom=3)\n",
    "fig.show()"
   ]
  },
  {
   "cell_type": "code",
   "execution_count": null,
   "metadata": {},
   "outputs": [],
   "source": []
  }
 ],
 "metadata": {
  "kernelspec": {
   "display_name": "Python 3",
   "language": "python",
   "name": "python3"
  },
  "language_info": {
   "codemirror_mode": {
    "name": "ipython",
    "version": 3
   },
   "file_extension": ".py",
   "mimetype": "text/x-python",
   "name": "python",
   "nbconvert_exporter": "python",
   "pygments_lexer": "ipython3",
   "version": "3.8.5"
  }
 },
 "nbformat": 4,
 "nbformat_minor": 4
}
